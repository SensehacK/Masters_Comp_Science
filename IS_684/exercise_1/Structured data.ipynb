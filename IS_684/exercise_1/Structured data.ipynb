{
 "cells": [
  {
   "cell_type": "markdown",
   "metadata": {},
   "source": [
    "### Part 1"
   ]
  },
  {
   "cell_type": "markdown",
   "metadata": {},
   "source": [
    "Create the areas list and answer the following questions"
   ]
  },
  {
   "cell_type": "code",
   "execution_count": 2,
   "metadata": {},
   "outputs": [],
   "source": [
    "areas = [\"hallway\", 11.25, \"kitchen\", 18.0, \"living room\", 20.0, \"bedroom\", 10.75, \"bathroom\", 9.50]"
   ]
  },
  {
   "cell_type": "markdown",
   "metadata": {},
   "source": [
    "1- Print out second element from areas"
   ]
  },
  {
   "source": [
    "areas[1]"
   ],
   "cell_type": "code",
   "metadata": {
    "tags": []
   },
   "execution_count": 9,
   "outputs": [
    {
     "output_type": "execute_result",
     "data": {
      "text/plain": "11.25"
     },
     "metadata": {},
     "execution_count": 9
    }
   ]
  },
  {
   "cell_type": "markdown",
   "metadata": {},
   "source": [
    "2- Print out last element from areas"
   ]
  },
  {
   "cell_type": "code",
   "execution_count": 8,
   "metadata": {
    "tags": []
   },
   "outputs": [
    {
     "output_type": "stream",
     "name": "stdout",
     "text": "9.5\n"
    }
   ],
   "source": [
    "print(areas[-1])"
   ]
  },
  {
   "cell_type": "markdown",
   "metadata": {},
   "source": [
    "3 - Print out the area of the living room"
   ]
  },
  {
   "cell_type": "code",
   "execution_count": 10,
   "metadata": {},
   "outputs": [
    {
     "output_type": "execute_result",
     "data": {
      "text/plain": "20.0"
     },
     "metadata": {},
     "execution_count": 10
    }
   ],
   "source": [
    "areas[5]"
   ]
  },
  {
   "cell_type": "markdown",
   "metadata": {},
   "source": [
    "4 - Set the sum of kitchen and bedroom area to a new variable: eat_sleep_area (retrieve the kitchen and bedroom areas from the list instead of typing them manually)"
   ]
  },
  {
   "cell_type": "code",
   "execution_count": 12,
   "metadata": {},
   "outputs": [
    {
     "output_type": "execute_result",
     "data": {
      "text/plain": "28.75"
     },
     "metadata": {},
     "execution_count": 12
    }
   ],
   "source": [
    "eat_sleep_area = areas[3] + areas[7]\n",
    "eat_sleep_area"
   ]
  },
  {
   "cell_type": "markdown",
   "metadata": {},
   "source": [
    "5 - Create a new list that only has hallway and kitchen area (retrive the hallway and kitchen eareas from the areas list instead of typing them manually "
   ]
  },
  {
   "cell_type": "code",
   "execution_count": 13,
   "metadata": {},
   "outputs": [
    {
     "output_type": "execute_result",
     "data": {
      "text/plain": "[11.25, 18.0]"
     },
     "metadata": {},
     "execution_count": 13
    }
   ],
   "source": [
    "new_list = [areas[1], areas[3]]\n",
    "new_list"
   ]
  },
  {
   "cell_type": "markdown",
   "metadata": {},
   "source": [
    "6 - Hallway, kitchen and living room are on the first floor. Slice the areas list to show only the first floor elements"
   ]
  },
  {
   "cell_type": "code",
   "execution_count": 14,
   "metadata": {},
   "outputs": [
    {
     "output_type": "execute_result",
     "data": {
      "text/plain": "['hallway', 11.25, 'kitchen', 18.0, 'living room', 20.0]"
     },
     "metadata": {},
     "execution_count": 14
    }
   ],
   "source": [
    "areas[0:6]"
   ]
  },
  {
   "cell_type": "markdown",
   "metadata": {},
   "source": [
    "7 - Slice the areas to show the second floor only (there are only two floors)"
   ]
  },
  {
   "cell_type": "code",
   "execution_count": 15,
   "metadata": {},
   "outputs": [
    {
     "output_type": "execute_result",
     "data": {
      "text/plain": "['bedroom', 10.75, 'bathroom', 9.5]"
     },
     "metadata": {},
     "execution_count": 15
    }
   ],
   "source": [
    "areas[6:]"
   ]
  },
  {
   "cell_type": "markdown",
   "metadata": {},
   "source": [
    "8- The bathroom area was given incorrectly. Change the bathroom area to 10.50"
   ]
  },
  {
   "cell_type": "code",
   "execution_count": 18,
   "metadata": {},
   "outputs": [
    {
     "output_type": "execute_result",
     "data": {
      "text/plain": "['hallway',\n 11.25,\n 'kitchen',\n 18.0,\n 'living room',\n 20.0,\n 'bedroom',\n 10.75,\n 'bathroom',\n 10.5]"
     },
     "metadata": {},
     "execution_count": 18
    }
   ],
   "source": [
    "areas[-1] = 10.50\n",
    "areas"
   ]
  },
  {
   "cell_type": "markdown",
   "metadata": {},
   "source": [
    "9 - Change \"living room\" to \"chill zone\" "
   ]
  },
  {
   "cell_type": "code",
   "execution_count": 20,
   "metadata": {},
   "outputs": [
    {
     "output_type": "execute_result",
     "data": {
      "text/plain": "['hallway',\n 11.25,\n 'kitchen',\n 18.0,\n 'chill zone',\n 20.0,\n 'bedroom',\n 10.75,\n 'bathroom',\n 10.5]"
     },
     "metadata": {},
     "execution_count": 20
    }
   ],
   "source": [
    "areas[4] = \"chill zone\"\n",
    "areas"
   ]
  },
  {
   "cell_type": "markdown",
   "metadata": {},
   "source": [
    "10 - Create a new list (areas2) that has all the values in areas and a new area called \"poolhouse\" that is 24.5 "
   ]
  },
  {
   "cell_type": "code",
   "execution_count": 25,
   "metadata": {},
   "outputs": [
    {
     "output_type": "execute_result",
     "data": {
      "text/plain": "['hallway',\n 11.25,\n 'kitchen',\n 18.0,\n 'chill zone',\n 20.0,\n 'bedroom',\n 10.75,\n 'bathroom',\n 10.5,\n 'poolhouse',\n 24.5]"
     },
     "metadata": {},
     "execution_count": 25
    }
   ],
   "source": [
    "areas2 = areas + [\"poolhouse\", 24.5]\n",
    "areas2"
   ]
  },
  {
   "cell_type": "markdown",
   "metadata": {},
   "source": [
    "11 - Remove the \"poolhouse\" and its value from areas2"
   ]
  },
  {
   "cell_type": "code",
   "execution_count": 26,
   "metadata": {},
   "outputs": [
    {
     "output_type": "execute_result",
     "data": {
      "text/plain": "['hallway',\n 11.25,\n 'kitchen',\n 18.0,\n 'chill zone',\n 20.0,\n 'bedroom',\n 10.75,\n 'bathroom',\n 10.5]"
     },
     "metadata": {},
     "execution_count": 26
    }
   ],
   "source": [
    "del areas2[-2:]\n",
    "areas2"
   ]
  },
  {
   "cell_type": "markdown",
   "metadata": {},
   "source": [
    "### Part 2"
   ]
  },
  {
   "cell_type": "markdown",
   "metadata": {},
   "source": [
    "Following dictionary shows the top 10 Female baby names in 2012"
   ]
  },
  {
   "cell_type": "code",
   "execution_count": 60,
   "metadata": {},
   "outputs": [],
   "source": [
    "baby_names={1: 'EMMA', 2: 'LEAH', 3: 'SARAH',  4: 'SOPHIA', 5: 'ESTHER', 6: 'RACHEL',\n",
    " 7: 'CHAYA', 8: 'AVA', 9: 'CHANA', 10: 'MIRIAM'}"
   ]
  },
  {
   "cell_type": "markdown",
   "metadata": {},
   "source": [
    "1 - Using baby_names, write a script to print the rank of name  and the name. The first line should read:  \"1. name is Emma\""
   ]
  },
  {
   "cell_type": "code",
   "execution_count": 29,
   "metadata": {
    "tags": []
   },
   "outputs": [
    {
     "output_type": "stream",
     "name": "stdout",
     "text": "1. name is EMMA\n2. name is LEAH\n3. name is SARAH\n4. name is SOPHIA\n5. name is ESTHER\n6. name is RACHEL\n7. name is CHAYA\n8. name is AVA\n9. name is CHANA\n10. name is MIRIAM\n"
    }
   ],
   "source": [
    "for (key, values) in baby_names.items():\n",
    "    print(\"{}. name is {}\".format(key, values))"
   ]
  },
  {
   "cell_type": "markdown",
   "metadata": {},
   "source": [
    "2 - Change the name in the 10th place to \"Emily\"    "
   ]
  },
  {
   "cell_type": "code",
   "execution_count": 32,
   "metadata": {},
   "outputs": [
    {
     "output_type": "execute_result",
     "data": {
      "text/plain": "{1: 'EMMA',\n 2: 'LEAH',\n 3: 'SARAH',\n 4: 'SOPHIA',\n 5: 'ESTHER',\n 6: 'RACHEL',\n 7: 'CHAYA',\n 8: 'AVA',\n 9: 'CHANA',\n 10: 'Emily'}"
     },
     "metadata": {},
     "execution_count": 32
    }
   ],
   "source": [
    "baby_names[10] = \"Emily\"\n",
    "baby_names"
   ]
  },
  {
   "cell_type": "markdown",
   "metadata": {},
   "source": [
    "3 - Create a \"list\" of names by extracting them from the dictionary   "
   ]
  },
  {
   "cell_type": "code",
   "execution_count": 34,
   "metadata": {},
   "outputs": [
    {
     "output_type": "execute_result",
     "data": {
      "text/plain": "['EMMA',\n 'LEAH',\n 'SARAH',\n 'SOPHIA',\n 'ESTHER',\n 'RACHEL',\n 'CHAYA',\n 'AVA',\n 'CHANA',\n 'Emily']"
     },
     "metadata": {},
     "execution_count": 34
    }
   ],
   "source": [
    "names = []\n",
    "for values in baby_names.values():\n",
    "    names.append(values)\n",
    "names"
   ]
  },
  {
   "cell_type": "markdown",
   "metadata": {},
   "source": [
    "4 - Find the ranking of Channa. You may need to loop through the dictionary until you find Channa in the dictionary."
   ]
  },
  {
   "cell_type": "code",
   "execution_count": 37,
   "metadata": {
    "tags": []
   },
   "outputs": [
    {
     "output_type": "stream",
     "name": "stdout",
     "text": "9\n"
    }
   ],
   "source": [
    "for (key, values) in baby_names.items():\n",
    "    if values.lower() == \"chana\":\n",
    "        print(key)"
   ]
  },
  {
   "cell_type": "markdown",
   "metadata": {},
   "source": [
    "5 - Given the morse code dictionary below. Decipher the following message"
   ]
  },
  {
   "cell_type": "code",
   "execution_count": 38,
   "metadata": {},
   "outputs": [],
   "source": [
    "MORSE_CODE_DICT = {'.-': 'A','-...': 'B', '-.-.': 'C', '-..': 'D',\n",
    "                   '.': 'E', '..-.': 'F', '--.': 'G', '....': 'H',\n",
    "                   '..': 'I', '.---': 'J', '-.-': 'K', '.-..': 'L',\n",
    "                   '--': 'M', '-.': 'N', '---': 'O', '.--.': 'P',\n",
    "                   '--.-': 'Q', '.-.': 'R', '...': 'S', '-': 'T',\n",
    "                   '..-': 'U', '...-': 'V', '.--': 'W', '-..-': 'X',\n",
    "                   '-.--': 'Y', '--..': 'Z', '.----': '1', '..---': '2',\n",
    "                   '...--': '3', '....-': '4', '.....': '5', '-....': '6',\n",
    "                   '--...': '7', '---..': '8', '----.': '9', '-----': '0',\n",
    "                   '--..--': ', ', '.-.-.-': '.', '..--..': '?', '-..-.': '/',\n",
    "                   '-....-': '-', '-.--.': '(', '-.--.-': ')'}"
   ]
  },
  {
   "cell_type": "code",
   "execution_count": 43,
   "metadata": {
    "tags": []
   },
   "outputs": [
    {
     "output_type": "stream",
     "name": "stdout",
     "text": "G\nE\nE\nK\nS\n-\nF\nO\nR\n-\nG\nE\nE\nK\nS\n"
    },
    {
     "output_type": "execute_result",
     "data": {
      "text/plain": "'GEEKS-FOR-GEEKS'"
     },
     "metadata": {},
     "execution_count": 43
    }
   ],
   "source": [
    "message=['--.', '.', '.', '-.-', '...', '-....-', '..-.', '---', '.-.', '-....-', '--.', '.', '.', '-.-', '...', ''] \n",
    "decoded_msg = \"\"\n",
    "for char in message: \n",
    "    if len(char) > 0:\n",
    "        print(MORSE_CODE_DICT[char])\n",
    "        decoded_msg += MORSE_CODE_DICT[char]\n",
    "\n",
    "decoded_msg"
   ]
  },
  {
   "cell_type": "code",
   "execution_count": 20,
   "metadata": {
    "tags": []
   },
   "outputs": [
    {
     "output_type": "stream",
     "name": "stdout",
     "text": "G\nE\nE\nK\nS\n-\nF\nO\nR\n-\nG\nE\nE\nK\nS\nNone\n"
    }
   ],
   "source": [
    "for item in message:\n",
    "    print(MORSE_CODE_DICT.get(item))"
   ]
  },
  {
   "cell_type": "markdown",
   "metadata": {},
   "source": [
    "6 - Bonus: Put \"Ella\" in the third place and update the list by lowering the rankings of everyone that would come after Ella. \"Sarah\" should be 4th, \"Sophia\" should be 5th ... "
   ]
  },
  {
   "cell_type": "code",
   "execution_count": 61,
   "metadata": {},
   "outputs": [
    {
     "output_type": "execute_result",
     "data": {
      "text/plain": "{1: 'EMMA',\n 2: 'LEAH',\n 3: 'SARAH',\n 4: 'SOPHIA',\n 5: 'ESTHER',\n 6: 'RACHEL',\n 7: 'CHAYA',\n 8: 'AVA',\n 9: 'CHANA',\n 10: 'MIRIAM'}"
     },
     "metadata": {},
     "execution_count": 61
    }
   ],
   "source": [
    "current_list=list(baby_names.values())\n",
    "baby_names\n"
   ]
  },
  {
   "cell_type": "code",
   "execution_count": 62,
   "metadata": {},
   "outputs": [
    {
     "output_type": "execute_result",
     "data": {
      "text/plain": "['EMMA',\n 'LEAH',\n 'SARAH',\n 'SOPHIA',\n 'ESTHER',\n 'RACHEL',\n 'CHAYA',\n 'AVA',\n 'CHANA',\n 'MIRIAM']"
     },
     "metadata": {},
     "execution_count": 62
    }
   ],
   "source": [
    "current_list"
   ]
  },
  {
   "cell_type": "code",
   "execution_count": 63,
   "metadata": {},
   "outputs": [
    {
     "output_type": "execute_result",
     "data": {
      "text/plain": "['EMMA',\n 'LEAH',\n 'ELLA',\n 'SARAH',\n 'SOPHIA',\n 'ESTHER',\n 'RACHEL',\n 'CHAYA',\n 'AVA',\n 'CHANA',\n 'MIRIAM']"
     },
     "metadata": {},
     "execution_count": 63
    }
   ],
   "source": [
    "current_list.insert(2, 'ELLA')\n",
    "current_list"
   ]
  },
  {
   "cell_type": "code",
   "execution_count": 64,
   "metadata": {},
   "outputs": [
    {
     "output_type": "execute_result",
     "data": {
      "text/plain": "{1: 'EMMA',\n 2: 'LEAH',\n 3: 'ELLA',\n 4: 'SARAH',\n 5: 'SOPHIA',\n 6: 'ESTHER',\n 7: 'RACHEL',\n 8: 'CHAYA',\n 9: 'AVA',\n 10: 'CHANA',\n 11: 'MIRIAM'}"
     },
     "metadata": {},
     "execution_count": 64
    }
   ],
   "source": [
    "for i in range(1,len(current_list)+1):\n",
    "    baby_names[i]=current_list[i-1]\n",
    "\n",
    "baby_names"
   ]
  },
  {
   "cell_type": "code",
   "execution_count": null,
   "metadata": {},
   "outputs": [],
   "source": []
  }
 ],
 "metadata": {
  "kernelspec": {
   "display_name": "Python 3",
   "language": "python",
   "name": "python3"
  },
  "language_info": {
   "codemirror_mode": {
    "name": "ipython",
    "version": 3
   },
   "file_extension": ".py",
   "mimetype": "text/x-python",
   "name": "python",
   "nbconvert_exporter": "python",
   "pygments_lexer": "ipython3",
   "version": "3.8.3-final"
  }
 },
 "nbformat": 4,
 "nbformat_minor": 2
}