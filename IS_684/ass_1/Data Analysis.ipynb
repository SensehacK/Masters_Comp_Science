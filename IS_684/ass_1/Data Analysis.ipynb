{
 "cells": [
  {
   "cell_type": "code",
   "execution_count": 36,
   "metadata": {
    "hide_input": false,
    "slideshow": {
     "slide_type": "slide"
    }
   },
   "outputs": [],
   "source": [
    "## Run the following code for data prep\n",
    "import pandas as pd \n",
    "\n",
    "df=pd.read_csv('movie_ratings.csv' )\n",
    "\n",
    "first_genre=df['genres'].str.split('|', expand=True)[0]\n",
    "df['main_genre']=first_genre\n",
    "\n",
    "df['title']=df['title'].str.strip()\n",
    "df['year']=df['title'].str[-5:-1]\n",
    "df=df[df['year'].str.isnumeric()]\n",
    "df['year']=pd.to_numeric(df['year'])"
   ]
  },
  {
   "cell_type": "code",
   "execution_count": 37,
   "metadata": {},
   "outputs": [],
   "source": [
    "# r = df.groupby(['year', 'rating'])\n",
    "# r.first()\n",
    "#df.tail()\n",
    "# df.groupby([\"year\", \"rating\"]).first().head(25)\n",
    "\n",
    "# df.describe()\n",
    "# df.dtypes\n",
    "# df[df['year'] == '1894']\n",
    "# r = df[df['year'] == 1894]\n",
    "# # df.head()\n",
    "# r['rating'].sum()\n",
    "\n",
    "# df.groupby(\"year\").first()\n",
    "# df['rating']\n",
    "# g = df.groupby(\"year\").count()\n",
    "# df['year'].value_counts()\n"
   ]
  },
  {
   "cell_type": "markdown",
   "metadata": {},
   "source": [
    "What are the yearly rating averages?"
   ]
  },
  {
   "cell_type": "code",
   "execution_count": 38,
   "metadata": {},
   "outputs": [
    {
     "output_type": "execute_result",
     "data": {
      "text/plain": "     year    rating\n0    1891  3.000000\n1    1893  3.375000\n2    1894  3.071429\n3    1895  3.125000\n4    1896  3.183036\n..    ...       ...\n113  2011  3.162567\n114  2012  3.104176\n115  2013  3.145056\n116  2014  3.122809\n117  2015  2.813146\n\n[118 rows x 2 columns]",
      "text/html": "<div>\n<style scoped>\n    .dataframe tbody tr th:only-of-type {\n        vertical-align: middle;\n    }\n\n    .dataframe tbody tr th {\n        vertical-align: top;\n    }\n\n    .dataframe thead th {\n        text-align: right;\n    }\n</style>\n<table border=\"1\" class=\"dataframe\">\n  <thead>\n    <tr style=\"text-align: right;\">\n      <th></th>\n      <th>year</th>\n      <th>rating</th>\n    </tr>\n  </thead>\n  <tbody>\n    <tr>\n      <th>0</th>\n      <td>1891</td>\n      <td>3.000000</td>\n    </tr>\n    <tr>\n      <th>1</th>\n      <td>1893</td>\n      <td>3.375000</td>\n    </tr>\n    <tr>\n      <th>2</th>\n      <td>1894</td>\n      <td>3.071429</td>\n    </tr>\n    <tr>\n      <th>3</th>\n      <td>1895</td>\n      <td>3.125000</td>\n    </tr>\n    <tr>\n      <th>4</th>\n      <td>1896</td>\n      <td>3.183036</td>\n    </tr>\n    <tr>\n      <th>...</th>\n      <td>...</td>\n      <td>...</td>\n    </tr>\n    <tr>\n      <th>113</th>\n      <td>2011</td>\n      <td>3.162567</td>\n    </tr>\n    <tr>\n      <th>114</th>\n      <td>2012</td>\n      <td>3.104176</td>\n    </tr>\n    <tr>\n      <th>115</th>\n      <td>2013</td>\n      <td>3.145056</td>\n    </tr>\n    <tr>\n      <th>116</th>\n      <td>2014</td>\n      <td>3.122809</td>\n    </tr>\n    <tr>\n      <th>117</th>\n      <td>2015</td>\n      <td>2.813146</td>\n    </tr>\n  </tbody>\n</table>\n<p>118 rows × 2 columns</p>\n</div>"
     },
     "metadata": {},
     "execution_count": 38
    }
   ],
   "source": [
    "year_rating = df.groupby(\"year\")[\"rating\"].mean().reset_index()\n",
    "year_rating"
   ]
  },
  {
   "cell_type": "markdown",
   "metadata": {},
   "source": [
    "Which years have the top 3 rating averages. Are you surprised to see these years? What can potentially explain the fact that these years have the highest averages ? "
   ]
  },
  {
   "cell_type": "code",
   "execution_count": 39,
   "metadata": {
    "collapsed": true
   },
   "outputs": [
    {
     "output_type": "execute_result",
     "data": {
      "text/plain": "   year    rating\n8  1901  5.000000\n5  1898  3.850000\n9  1902  3.738189",
      "text/html": "<div>\n<style scoped>\n    .dataframe tbody tr th:only-of-type {\n        vertical-align: middle;\n    }\n\n    .dataframe tbody tr th {\n        vertical-align: top;\n    }\n\n    .dataframe thead th {\n        text-align: right;\n    }\n</style>\n<table border=\"1\" class=\"dataframe\">\n  <thead>\n    <tr style=\"text-align: right;\">\n      <th></th>\n      <th>year</th>\n      <th>rating</th>\n    </tr>\n  </thead>\n  <tbody>\n    <tr>\n      <th>8</th>\n      <td>1901</td>\n      <td>5.000000</td>\n    </tr>\n    <tr>\n      <th>5</th>\n      <td>1898</td>\n      <td>3.850000</td>\n    </tr>\n    <tr>\n      <th>9</th>\n      <td>1902</td>\n      <td>3.738189</td>\n    </tr>\n  </tbody>\n</table>\n</div>"
     },
     "metadata": {},
     "execution_count": 39
    }
   ],
   "source": [
    "year_rating.sort_values(by = ['rating'], ascending= False).head(3)"
   ]
  },
  {
   "source": [
    "I'm surprised that lots of old movies have higher ratings. Maybe the ratings given were less amount which would lead to better average of less people rating the movies."
   ],
   "cell_type": "markdown",
   "metadata": {}
  },
  {
   "cell_type": "markdown",
   "metadata": {},
   "source": [
    "Sort years based the number of films produced. Is there a pattern? What can we say about the movie production rate over the years. "
   ]
  },
  {
   "cell_type": "code",
   "execution_count": 40,
   "metadata": {},
   "outputs": [
    {
     "output_type": "execute_result",
     "data": {
      "text/plain": "year\n2009    1101\n2011    1006\n2012     997\n2013     990\n2008     968\n        ... \n1900       1\n1901       1\n1902       1\n1905       1\n1891       1\nName: rating, Length: 118, dtype: int64"
     },
     "metadata": {},
     "execution_count": 40
    }
   ],
   "source": [
    "number_films = df.groupby(\"year\")[\"rating\"].count()\n",
    "number_films.sort_values(ascending= False)\n",
    "# df.groupby([\"year\", \"title\"]).first().head(25)"
   ]
  },
  {
   "cell_type": "markdown",
   "metadata": {},
   "source": [
    "Which genres are most liked ? "
   ]
  },
  {
   "cell_type": "code",
   "execution_count": 41,
   "metadata": {},
   "outputs": [
    {
     "output_type": "execute_result",
     "data": {
      "text/plain": "0              Film-Noir\n1            Documentary\n2                  Drama\n3                  Crime\n4                    War\n5              Animation\n6              Adventure\n7                 Comedy\n8                Mystery\n9                Romance\n10               Fantasy\n11               Western\n12                Action\n13              Thriller\n14               Musical\n15              Children\n16                Sci-Fi\n17    (no genres listed)\n18                Horror\n19                  IMAX\nName: main_genre, dtype: object"
     },
     "metadata": {},
     "execution_count": 41
    }
   ],
   "source": [
    "genre_liked = df.groupby(\"main_genre\")[\"rating\"].mean().reset_index()\n",
    "# genre_liked\n",
    "highest_rated_genre = genre_liked.sort_values(by = ['rating'], ascending= False)\n",
    "highest_rated_genre[\"main_genre\"].reset_index(drop= True)"
   ]
  },
  {
   "cell_type": "markdown",
   "metadata": {
    "collapsed": true
   },
   "source": [
    "Which genres are most popular (in terms of production) ? "
   ]
  },
  {
   "cell_type": "code",
   "execution_count": 42,
   "metadata": {
    "collapsed": true
   },
   "outputs": [
    {
     "output_type": "execute_result",
     "data": {
      "text/plain": "main_genre\nDrama                 7709\nComedy                6668\nAction                3465\nDocumentary           2173\nCrime                 1586\nHorror                1366\nAdventure             1330\nAnimation              560\nChildren               405\nThriller               275\n(no genres listed)     233\nWestern                207\nSci-Fi                 162\nRomance                143\nMystery                139\nFantasy                135\nMusical                 92\nFilm-Noir               38\nWar                     35\nIMAX                     1\nName: rating, dtype: int64"
     },
     "metadata": {},
     "execution_count": 42
    }
   ],
   "source": [
    "# genre_count = df.groupby(\"year\").head(3)\n",
    "\n",
    "genre_count = df.groupby(\"main_genre\").count()\n",
    "genre_count = genre_count.sort_values(by = ['rating'], ascending= False)\n",
    "# genre_count\n",
    "genre_count.loc[:, 'rating']\n",
    "# genre_count.loc[:, 'rating']\n",
    "\n",
    "# df['year'].value_counts()\n",
    "\n",
    "# df.groupby([\"year\", \"rating\"]).first().head(25)\n",
    "\n",
    "# r = df[df['main_genre'] == 1894]\n",
    "# # df.head()\n",
    "# r['rating'].count()\n",
    "\n",
    "\n",
    "# genre_count = df.groupby(['year'])\n",
    "# genre_count.first()\n",
    "# genre_count"
   ]
  },
  {
   "cell_type": "markdown",
   "metadata": {
    "cell_style": "center",
    "hide_input": false,
    "slideshow": {
     "slide_type": "slide"
    }
   },
   "source": [
    "**Open Ended:** You are considering to invest in a movie. Having this dataset, try to narrow your options to a single genre. That's find the find the genre of movies that are more \"investible\". \n",
    "\n",
    "You can consider a few of parameters: \n",
    " - average rating: it can be considered as the likelihood that the movie will be better received considering some genres have better ratings than others.  \n",
    " - number of movies: You can also consider the competition. \n",
    " - changes over the years: Another aspect to explore is whether these genres are getting better or worse over the (recent) years. \n",
    " - rating volatility (standard deviation): Also think about whether you are a risk taker or risk averse. Do you want to invest in a higly volitale genre (in terms of its ratings) or do you prefer to invest in a stable genre.   \n",
    " \n",
    "While there are no wrong answers here, please support your decision with appropriate data analysis using pandas."
   ]
  },
  {
   "cell_type": "code",
   "execution_count": 43,
   "metadata": {
    "collapsed": true
   },
   "outputs": [
    {
     "output_type": "execute_result",
     "data": {
      "text/plain": "Drama                 7709\nComedy                6668\nAction                3465\nDocumentary           2173\nCrime                 1586\nHorror                1366\nAdventure             1330\nAnimation              560\nChildren               405\nThriller               275\n(no genres listed)     233\nWestern                207\nSci-Fi                 162\nRomance                143\nMystery                139\nFantasy                135\nMusical                 92\nFilm-Noir               38\nWar                     35\nIMAX                     1\nName: main_genre, dtype: int64"
     },
     "metadata": {},
     "execution_count": 43
    }
   ],
   "source": [
    "df['main_genre'].value_counts()"
   ]
  },
  {
   "cell_type": "code",
   "execution_count": 44,
   "metadata": {
    "collapsed": true
   },
   "outputs": [
    {
     "output_type": "execute_result",
     "data": {
      "text/plain": "            main_genre    rating\n0   (no genres listed)  2.771531\n1               Action  2.976834\n2            Adventure  3.104184\n3            Animation  3.167287\n4             Children  2.888802\n5               Comedy  3.090744\n6                Crime  3.214546\n7          Documentary  3.444347\n8                Drama  3.276927\n9              Fantasy  2.997350\n10           Film-Noir  3.502881\n11              Horror  2.604157\n12                IMAX  2.533333\n13             Musical  2.957358\n14             Mystery  3.063586\n15             Romance  3.013840\n16              Sci-Fi  2.799310\n17            Thriller  2.969432\n18                 War  3.200764\n19             Western  2.986815",
      "text/html": "<div>\n<style scoped>\n    .dataframe tbody tr th:only-of-type {\n        vertical-align: middle;\n    }\n\n    .dataframe tbody tr th {\n        vertical-align: top;\n    }\n\n    .dataframe thead th {\n        text-align: right;\n    }\n</style>\n<table border=\"1\" class=\"dataframe\">\n  <thead>\n    <tr style=\"text-align: right;\">\n      <th></th>\n      <th>main_genre</th>\n      <th>rating</th>\n    </tr>\n  </thead>\n  <tbody>\n    <tr>\n      <th>0</th>\n      <td>(no genres listed)</td>\n      <td>2.771531</td>\n    </tr>\n    <tr>\n      <th>1</th>\n      <td>Action</td>\n      <td>2.976834</td>\n    </tr>\n    <tr>\n      <th>2</th>\n      <td>Adventure</td>\n      <td>3.104184</td>\n    </tr>\n    <tr>\n      <th>3</th>\n      <td>Animation</td>\n      <td>3.167287</td>\n    </tr>\n    <tr>\n      <th>4</th>\n      <td>Children</td>\n      <td>2.888802</td>\n    </tr>\n    <tr>\n      <th>5</th>\n      <td>Comedy</td>\n      <td>3.090744</td>\n    </tr>\n    <tr>\n      <th>6</th>\n      <td>Crime</td>\n      <td>3.214546</td>\n    </tr>\n    <tr>\n      <th>7</th>\n      <td>Documentary</td>\n      <td>3.444347</td>\n    </tr>\n    <tr>\n      <th>8</th>\n      <td>Drama</td>\n      <td>3.276927</td>\n    </tr>\n    <tr>\n      <th>9</th>\n      <td>Fantasy</td>\n      <td>2.997350</td>\n    </tr>\n    <tr>\n      <th>10</th>\n      <td>Film-Noir</td>\n      <td>3.502881</td>\n    </tr>\n    <tr>\n      <th>11</th>\n      <td>Horror</td>\n      <td>2.604157</td>\n    </tr>\n    <tr>\n      <th>12</th>\n      <td>IMAX</td>\n      <td>2.533333</td>\n    </tr>\n    <tr>\n      <th>13</th>\n      <td>Musical</td>\n      <td>2.957358</td>\n    </tr>\n    <tr>\n      <th>14</th>\n      <td>Mystery</td>\n      <td>3.063586</td>\n    </tr>\n    <tr>\n      <th>15</th>\n      <td>Romance</td>\n      <td>3.013840</td>\n    </tr>\n    <tr>\n      <th>16</th>\n      <td>Sci-Fi</td>\n      <td>2.799310</td>\n    </tr>\n    <tr>\n      <th>17</th>\n      <td>Thriller</td>\n      <td>2.969432</td>\n    </tr>\n    <tr>\n      <th>18</th>\n      <td>War</td>\n      <td>3.200764</td>\n    </tr>\n    <tr>\n      <th>19</th>\n      <td>Western</td>\n      <td>2.986815</td>\n    </tr>\n  </tbody>\n</table>\n</div>"
     },
     "metadata": {},
     "execution_count": 44
    }
   ],
   "source": [
    "genre_liked"
   ]
  },
  {
   "source": [
    "Considering the average ratings and number of movies made overall comparing \"highest_rated_genre\" and \"genre_count\". I would invest in Documentary genre as it has highest average ratings and highest number of movies made. Which gives us a better mean and is a safer bet compared with user preferences over all these years according to the dataset."
   ],
   "cell_type": "markdown",
   "metadata": {}
  },
  {
   "source": [],
   "cell_type": "markdown",
   "metadata": {}
  },
  {
   "source": [
    "# import matplotlib.pyplot as plt\n",
    "# year_liked = df.groupby([\"main_genre\", \"year\"])[\"rating\"].mean().reset_index()\n",
    "# year_liked.head(50)"
   ],
   "cell_type": "code",
   "metadata": {},
   "execution_count": 45,
   "outputs": []
  }
 ],
 "metadata": {
  "kernelspec": {
   "display_name": "Python 3",
   "language": "python",
   "name": "python3"
  },
  "language_info": {
   "codemirror_mode": {
    "name": "ipython",
    "version": 3
   },
   "file_extension": ".py",
   "mimetype": "text/x-python",
   "name": "python",
   "nbconvert_exporter": "python",
   "pygments_lexer": "ipython3",
   "version": "3.8.3-final"
  }
 },
 "nbformat": 4,
 "nbformat_minor": 2
}