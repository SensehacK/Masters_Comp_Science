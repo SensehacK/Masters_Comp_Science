{
 "metadata": {
  "language_info": {
   "codemirror_mode": {
    "name": "ipython",
    "version": 3
   },
   "file_extension": ".py",
   "mimetype": "text/x-python",
   "name": "python",
   "nbconvert_exporter": "python",
   "pygments_lexer": "ipython3",
   "version": "3.8.3-final"
  },
  "orig_nbformat": 2,
  "kernelspec": {
   "name": "Python 3.8.3 64-bit ('base': conda)",
   "display_name": "Python 3.8.3 64-bit ('base': conda)",
   "metadata": {
    "interpreter": {
     "hash": "bde86f343f4db1aa9aedb5610604cb7ab4205eadfd86b37f5d3df05f9528f79a"
    }
   }
  }
 },
 "nbformat": 4,
 "nbformat_minor": 2,
 "cells": [
  {
   "cell_type": "code",
   "execution_count": 7,
   "metadata": {
    "tags": []
   },
   "outputs": [
    {
     "output_type": "stream",
     "name": "stdout",
     "text": "<Response [200]>\n"
    }
   ],
   "source": [
    "from bs4 import BeautifulSoup\n",
    "import requests\n",
    "import pandas as pd\n",
    "\n",
    "nigerian_scam = \"http://www.419scam.org/emails/\"\n",
    "webpage = requests.get(nigerian_scam)\n",
    "print(webpage)"
   ]
  },
  {
   "cell_type": "code",
   "execution_count": 8,
   "metadata": {},
   "outputs": [],
   "source": [
    "# Getting links of the mails\n",
    "html_obj = webpage.text\n",
    "start_index = html_obj.find(\n",
    "    '<!-- EMAILS BY DATE -->') + len('<!-- EMAILS BY DATE -->')\n",
    "end_index = html_obj.find('<!-- /EMAILS BY DATE -->')\n",
    "# print(start_index)\n",
    "# print(end_index)\n",
    "beautify_webpage = BeautifulSoup(\n",
    "    html_obj[start_index:end_index], 'html.parser')\n",
    "# print(beautify_webpage)"
   ]
  },
  {
   "cell_type": "code",
   "execution_count": 9,
   "metadata": {},
   "outputs": [],
   "source": [
    "# Appending the href + base URL\n",
    "clean_link_lists = []\n",
    "all_links = beautify_webpage.find_all('a')\n",
    "for link in all_links:\n",
    "    # print(link)\n",
    "    # print(link.get('href'))\n",
    "    # print(len(link.text.strip()))\n",
    "    if len(link.text.strip()) == 2:\n",
    "        clean_link_lists.append(nigerian_scam+str(link.get('href')))\n",
    "        # print(\"Hello\")\n",
    "\n",
    "# print(clean_link_lists)"
   ]
  },
  {
   "cell_type": "code",
   "execution_count": 10,
   "metadata": {},
   "outputs": [],
   "source": [
    "# Create a table of these list\n",
    "def get_day_mail_list(url_mail):\n",
    "    page_mail = requests.get(url_mail)\n",
    "    base_url = url_mail[:-9]\n",
    "    base_date = url_mail[-20:-10]\n",
    "\n",
    "    html_obj = page_mail.text\n",
    "    # print(html_obj)\n",
    "    start_index = html_obj.find(\n",
    "        '<!-- INSERTLIST -->') + len('<!-- INSERTLIST -->')\n",
    "    end_index = html_obj.find('<!-- /INSERTLIST -->')\n",
    "    # print(start_index)\n",
    "    # print(end_index)\n",
    "    mail_table_soup = BeautifulSoup(\n",
    "        html_obj[start_index:end_index], 'html.parser')\n",
    "\n",
    "    # Appending the href + base URL\n",
    "    day_mails = []\n",
    "    for mail in mail_table_soup.find_all('a'):\n",
    "        link = str(base_url)+str(mail.get('href'))\n",
    "        mail_subject = mail.text.strip()\n",
    "        day_mails.append([link, base_date, mail_subject])\n",
    "\n",
    "    return day_mails\n",
    "\n",
    "# test = 'http://www.419scam.org/emails/2017-04/25/index.htm'\n",
    "# print(get_day_mail_list(test))\n"
   ]
  },
  {
   "cell_type": "code",
   "execution_count": 11,
   "metadata": {},
   "outputs": [],
   "source": [
    "# Download all mails\n",
    "def download_mails(mail_list_url):\n",
    "    i = 0\n",
    "    mail_list = []\n",
    "    while i < len(mail_list_url)/10:\n",
    "        day_mails = get_day_mail_list(mail_list_url[i])\n",
    "        mail_list.extend(day_mails)\n",
    "        i += 1\n",
    "    return mail_list\n",
    "\n",
    "all_mail_list = download_mails(clean_link_lists)"
   ]
  },
  {
   "cell_type": "code",
   "execution_count": 12,
   "metadata": {
    "tags": []
   },
   "outputs": [
    {
     "output_type": "stream",
     "name": "stdout",
     "text": "                                                     URL        Date  \\\n0      http://www.419scam.org/emails/2019-12/01/01359...  2019-12/01   \n1      http://www.419scam.org/emails/2019-12/01/01359...  2019-12/01   \n2      http://www.419scam.org/emails/2019-12/01/01359...  2019-12/01   \n3      http://www.419scam.org/emails/2019-12/01/01359...  2019-12/01   \n4      http://www.419scam.org/emails/2019-12/01/01359...  2019-12/01   \n...                                                  ...         ...   \n65153  http://www.419scam.org/emails/2018-09/18/https...  2018-09/18   \n65154  http://www.419scam.org/emails/2018-09/18/https...  2018-09/18   \n65155  http://www.419scam.org/emails/2018-09/18/https...  2018-09/18   \n65156  http://www.419scam.org/emails/2018-09/18/https...  2018-09/18   \n65157  http://www.419scam.org/emails/2018-09/18/https...  2018-09/18   \n\n                                               Link Text  \n0      We giving out up to $ 10,000,000 at 1 % intere...  \n1                                                  hello  \n2                                           Dear Friend,  \n3                                   Good Day My Dearest,  \n4      Dear Winner, Your Secret Pin Code Number BMW:2...  \n...                                                  ...  \n65153                                         scarlet.be  \n65154                                           test.com  \n65155                                          yahoo.com  \n65156                                       yahoo.com.ph  \n65157                                         yandex.com  \n\n[65158 rows x 3 columns]\n"
    }
   ],
   "source": [
    "# Panda visualize\n",
    "mail_pd = pd.DataFrame(all_mail_list, columns=['URL', 'Date', 'Link Text'])\n",
    "print(mail_pd)"
   ]
  }
 ]
}