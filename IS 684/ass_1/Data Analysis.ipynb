{
 "cells": [
  {
   "cell_type": "code",
   "execution_count": 23,
   "metadata": {
    "hide_input": false,
    "slideshow": {
     "slide_type": "slide"
    }
   },
   "outputs": [],
   "source": [
    "## Run the following code for data prep\n",
    "import pandas as pd \n",
    "\n",
    "df=pd.read_csv('movie_ratings.csv' )\n",
    "\n",
    "first_genre=df['genres'].str.split('|', expand=True)[0]\n",
    "df['main_genre']=first_genre\n",
    "\n",
    "df['title']=df['title'].str.strip()\n",
    "df['year']=df['title'].str[-5:-1]\n",
    "df=df[df['year'].str.isnumeric()]\n",
    "df['year']=pd.to_numeric(df['year'])"
   ]
  },
  {
   "cell_type": "code",
   "execution_count": 24,
   "metadata": {},
   "outputs": [
    {
     "output_type": "execute_result",
     "data": {
      "text/plain": "               movieId                                          title  \\\nyear rating                                                             \n1891 3.000000   129851                        Dickson Greeting (1891)   \n1893 3.375000    95541                        Blacksmith Scene (1893)   \n1894 2.714286    88674  Edison Kinetoscopic Record of a Sneeze (1894)   \n     3.428571    94951         Dickson Experimental Sound Film (1894)   \n1895 2.250000   113048           Tables Turned on the Gardener (1895)   \n...                ...                                            ...   \n2015 3.632075   119145            Kingsman: The Secret Service (2015)   \n     3.666667   127202          Me and Earl and the Dying Girl (2015)   \n     3.800000   127098    Louis C.K.: Live at The Comedy Store (2015)   \n     4.000000   127148                      The Hunting Ground (2015)   \n     4.500000   127206                  People, Places, Things (2015)   \n\n                                      genres          main_genre  \nyear rating                                                       \n1891 3.000000             (no genres listed)  (no genres listed)  \n1893 3.375000             (no genres listed)  (no genres listed)  \n1894 2.714286                    Documentary         Documentary  \n     3.428571                        Musical             Musical  \n1895 2.250000                         Comedy              Comedy  \n...                                      ...                 ...  \n2015 3.632075  Action|Adventure|Comedy|Crime              Action  \n     3.666667                          Drama               Drama  \n     3.800000                         Comedy              Comedy  \n     4.000000                    Documentary         Documentary  \n     4.500000                         Comedy              Comedy  \n\n[17632 rows x 4 columns]",
      "text/html": "<div>\n<style scoped>\n    .dataframe tbody tr th:only-of-type {\n        vertical-align: middle;\n    }\n\n    .dataframe tbody tr th {\n        vertical-align: top;\n    }\n\n    .dataframe thead th {\n        text-align: right;\n    }\n</style>\n<table border=\"1\" class=\"dataframe\">\n  <thead>\n    <tr style=\"text-align: right;\">\n      <th></th>\n      <th></th>\n      <th>movieId</th>\n      <th>title</th>\n      <th>genres</th>\n      <th>main_genre</th>\n    </tr>\n    <tr>\n      <th>year</th>\n      <th>rating</th>\n      <th></th>\n      <th></th>\n      <th></th>\n      <th></th>\n    </tr>\n  </thead>\n  <tbody>\n    <tr>\n      <th>1891</th>\n      <th>3.000000</th>\n      <td>129851</td>\n      <td>Dickson Greeting (1891)</td>\n      <td>(no genres listed)</td>\n      <td>(no genres listed)</td>\n    </tr>\n    <tr>\n      <th>1893</th>\n      <th>3.375000</th>\n      <td>95541</td>\n      <td>Blacksmith Scene (1893)</td>\n      <td>(no genres listed)</td>\n      <td>(no genres listed)</td>\n    </tr>\n    <tr>\n      <th rowspan=\"2\" valign=\"top\">1894</th>\n      <th>2.714286</th>\n      <td>88674</td>\n      <td>Edison Kinetoscopic Record of a Sneeze (1894)</td>\n      <td>Documentary</td>\n      <td>Documentary</td>\n    </tr>\n    <tr>\n      <th>3.428571</th>\n      <td>94951</td>\n      <td>Dickson Experimental Sound Film (1894)</td>\n      <td>Musical</td>\n      <td>Musical</td>\n    </tr>\n    <tr>\n      <th>1895</th>\n      <th>2.250000</th>\n      <td>113048</td>\n      <td>Tables Turned on the Gardener (1895)</td>\n      <td>Comedy</td>\n      <td>Comedy</td>\n    </tr>\n    <tr>\n      <th>...</th>\n      <th>...</th>\n      <td>...</td>\n      <td>...</td>\n      <td>...</td>\n      <td>...</td>\n    </tr>\n    <tr>\n      <th rowspan=\"5\" valign=\"top\">2015</th>\n      <th>3.632075</th>\n      <td>119145</td>\n      <td>Kingsman: The Secret Service (2015)</td>\n      <td>Action|Adventure|Comedy|Crime</td>\n      <td>Action</td>\n    </tr>\n    <tr>\n      <th>3.666667</th>\n      <td>127202</td>\n      <td>Me and Earl and the Dying Girl (2015)</td>\n      <td>Drama</td>\n      <td>Drama</td>\n    </tr>\n    <tr>\n      <th>3.800000</th>\n      <td>127098</td>\n      <td>Louis C.K.: Live at The Comedy Store (2015)</td>\n      <td>Comedy</td>\n      <td>Comedy</td>\n    </tr>\n    <tr>\n      <th>4.000000</th>\n      <td>127148</td>\n      <td>The Hunting Ground (2015)</td>\n      <td>Documentary</td>\n      <td>Documentary</td>\n    </tr>\n    <tr>\n      <th>4.500000</th>\n      <td>127206</td>\n      <td>People, Places, Things (2015)</td>\n      <td>Comedy</td>\n      <td>Comedy</td>\n    </tr>\n  </tbody>\n</table>\n<p>17632 rows × 4 columns</p>\n</div>"
     },
     "metadata": {},
     "execution_count": 24
    }
   ],
   "source": [
    "r = df.groupby(['year', 'rating'])\n",
    "r.first()"
   ]
  },
  {
   "cell_type": "code",
   "execution_count": 25,
   "metadata": {},
   "outputs": [
    {
     "output_type": "execute_result",
     "data": {
      "text/plain": "       movieId                          title                    genres  \\\n26739   131254   Kein Bund für's Leben (2007)                    Comedy   \n26740   131256  Feuer, Eis & Dosenbier (2002)                    Comedy   \n26741   131258             The Pirates (2014)                 Adventure   \n26742   131260            Rentun Ruusu (2001)        (no genres listed)   \n26743   131262               Innocence (2014)  Adventure|Fantasy|Horror   \n\n       rating          main_genre  year  \n26739     4.0              Comedy  2007  \n26740     4.0              Comedy  2002  \n26741     2.5           Adventure  2014  \n26742     3.0  (no genres listed)  2001  \n26743     4.0           Adventure  2014  ",
      "text/html": "<div>\n<style scoped>\n    .dataframe tbody tr th:only-of-type {\n        vertical-align: middle;\n    }\n\n    .dataframe tbody tr th {\n        vertical-align: top;\n    }\n\n    .dataframe thead th {\n        text-align: right;\n    }\n</style>\n<table border=\"1\" class=\"dataframe\">\n  <thead>\n    <tr style=\"text-align: right;\">\n      <th></th>\n      <th>movieId</th>\n      <th>title</th>\n      <th>genres</th>\n      <th>rating</th>\n      <th>main_genre</th>\n      <th>year</th>\n    </tr>\n  </thead>\n  <tbody>\n    <tr>\n      <th>26739</th>\n      <td>131254</td>\n      <td>Kein Bund für's Leben (2007)</td>\n      <td>Comedy</td>\n      <td>4.0</td>\n      <td>Comedy</td>\n      <td>2007</td>\n    </tr>\n    <tr>\n      <th>26740</th>\n      <td>131256</td>\n      <td>Feuer, Eis &amp; Dosenbier (2002)</td>\n      <td>Comedy</td>\n      <td>4.0</td>\n      <td>Comedy</td>\n      <td>2002</td>\n    </tr>\n    <tr>\n      <th>26741</th>\n      <td>131258</td>\n      <td>The Pirates (2014)</td>\n      <td>Adventure</td>\n      <td>2.5</td>\n      <td>Adventure</td>\n      <td>2014</td>\n    </tr>\n    <tr>\n      <th>26742</th>\n      <td>131260</td>\n      <td>Rentun Ruusu (2001)</td>\n      <td>(no genres listed)</td>\n      <td>3.0</td>\n      <td>(no genres listed)</td>\n      <td>2001</td>\n    </tr>\n    <tr>\n      <th>26743</th>\n      <td>131262</td>\n      <td>Innocence (2014)</td>\n      <td>Adventure|Fantasy|Horror</td>\n      <td>4.0</td>\n      <td>Adventure</td>\n      <td>2014</td>\n    </tr>\n  </tbody>\n</table>\n</div>"
     },
     "metadata": {},
     "execution_count": 25
    }
   ],
   "source": [
    "df.tail()"
   ]
  },
  {
   "cell_type": "code",
   "execution_count": 26,
   "metadata": {},
   "outputs": [
    {
     "output_type": "execute_result",
     "data": {
      "text/plain": "               movieId                                              title  \\\nyear rating                                                                 \n1891 3.000000   129851                            Dickson Greeting (1891)   \n1893 3.375000    95541                            Blacksmith Scene (1893)   \n1894 2.714286    88674      Edison Kinetoscopic Record of a Sneeze (1894)   \n     3.428571    94951             Dickson Experimental Sound Film (1894)   \n1895 2.250000   113048               Tables Turned on the Gardener (1895)   \n     4.000000   120869       Employees Leaving the Lumière Factory (1895)   \n1896 2.928571    96009                                   Kiss, The (1896)   \n     3.437500    98981                     Arrival of a Train, The (1896)   \n1898 2.500000   125978                                 Santa Claus (1898)   \n     3.000000   129849            Old Man Drinking a Glass of Beer (1898)   \n     3.750000    82337  Four Heads Are Better Than One (Un homme de tê...   \n     5.000000    94431                      Ella Lola, a la Trilby (1898)   \n1899 3.625000    82362  Pyramid of Triboulet, The (La pyramide de Trib...   \n1900 3.166667   117909                                    The Kiss (1900)   \n1901 5.000000    94737                       Boys Diving, Honolulu (1901)   \n1902 3.738189    32898  Trip to the Moon, A (Voyage dans la lune, Le) ...   \n1903 3.340909    49389                    Great Train Robbery, The (1903)   \n1905 2.500000   125996                             The Black Devil (1905)   \n1909 2.500000    93162  Moscow Clad in Snow (Moscou sous la neige) (1909)   \n     2.750000   120803                            Those Awful Hats (1909)   \n     3.000000   114371                           Lonely Villa, The (1909)   \n1910 2.500000   105776                             Trip to Mars, A (1910)   \n     3.466667    93865                                Frankenstein (1910)   \n     4.000000   109524  Woman Always Pays, The (Afgrunden) (Abyss, The...   \n1912 2.333333   114376                Musketeers of Pig Alley, The (1912)   \n\n                                        genres          main_genre  \nyear rating                                                         \n1891 3.000000               (no genres listed)  (no genres listed)  \n1893 3.375000               (no genres listed)  (no genres listed)  \n1894 2.714286                      Documentary         Documentary  \n     3.428571                          Musical             Musical  \n1895 2.250000                           Comedy              Comedy  \n     4.000000                      Documentary         Documentary  \n1896 2.928571                          Romance             Romance  \n     3.437500                      Documentary         Documentary  \n1898 2.500000                           Sci-Fi              Sci-Fi  \n     3.000000               (no genres listed)  (no genres listed)  \n     3.750000                          Fantasy             Fantasy  \n     5.000000               (no genres listed)  (no genres listed)  \n1899 3.625000                          Fantasy             Fantasy  \n1900 3.166667                          Romance             Romance  \n1901 5.000000                      Documentary         Documentary  \n1902 3.738189  Action|Adventure|Fantasy|Sci-Fi              Action  \n1903 3.340909                    Crime|Western               Crime  \n1905 2.500000                   Comedy|Fantasy              Comedy  \n1909 2.500000                      Documentary         Documentary  \n     2.750000                           Comedy              Comedy  \n     3.000000                      Crime|Drama               Crime  \n1910 2.500000                           Sci-Fi              Sci-Fi  \n     3.466667              Drama|Horror|Sci-Fi               Drama  \n     4.000000                            Drama               Drama  \n1912 2.333333                      Crime|Drama               Crime  ",
      "text/html": "<div>\n<style scoped>\n    .dataframe tbody tr th:only-of-type {\n        vertical-align: middle;\n    }\n\n    .dataframe tbody tr th {\n        vertical-align: top;\n    }\n\n    .dataframe thead th {\n        text-align: right;\n    }\n</style>\n<table border=\"1\" class=\"dataframe\">\n  <thead>\n    <tr style=\"text-align: right;\">\n      <th></th>\n      <th></th>\n      <th>movieId</th>\n      <th>title</th>\n      <th>genres</th>\n      <th>main_genre</th>\n    </tr>\n    <tr>\n      <th>year</th>\n      <th>rating</th>\n      <th></th>\n      <th></th>\n      <th></th>\n      <th></th>\n    </tr>\n  </thead>\n  <tbody>\n    <tr>\n      <th>1891</th>\n      <th>3.000000</th>\n      <td>129851</td>\n      <td>Dickson Greeting (1891)</td>\n      <td>(no genres listed)</td>\n      <td>(no genres listed)</td>\n    </tr>\n    <tr>\n      <th>1893</th>\n      <th>3.375000</th>\n      <td>95541</td>\n      <td>Blacksmith Scene (1893)</td>\n      <td>(no genres listed)</td>\n      <td>(no genres listed)</td>\n    </tr>\n    <tr>\n      <th rowspan=\"2\" valign=\"top\">1894</th>\n      <th>2.714286</th>\n      <td>88674</td>\n      <td>Edison Kinetoscopic Record of a Sneeze (1894)</td>\n      <td>Documentary</td>\n      <td>Documentary</td>\n    </tr>\n    <tr>\n      <th>3.428571</th>\n      <td>94951</td>\n      <td>Dickson Experimental Sound Film (1894)</td>\n      <td>Musical</td>\n      <td>Musical</td>\n    </tr>\n    <tr>\n      <th rowspan=\"2\" valign=\"top\">1895</th>\n      <th>2.250000</th>\n      <td>113048</td>\n      <td>Tables Turned on the Gardener (1895)</td>\n      <td>Comedy</td>\n      <td>Comedy</td>\n    </tr>\n    <tr>\n      <th>4.000000</th>\n      <td>120869</td>\n      <td>Employees Leaving the Lumière Factory (1895)</td>\n      <td>Documentary</td>\n      <td>Documentary</td>\n    </tr>\n    <tr>\n      <th rowspan=\"2\" valign=\"top\">1896</th>\n      <th>2.928571</th>\n      <td>96009</td>\n      <td>Kiss, The (1896)</td>\n      <td>Romance</td>\n      <td>Romance</td>\n    </tr>\n    <tr>\n      <th>3.437500</th>\n      <td>98981</td>\n      <td>Arrival of a Train, The (1896)</td>\n      <td>Documentary</td>\n      <td>Documentary</td>\n    </tr>\n    <tr>\n      <th rowspan=\"4\" valign=\"top\">1898</th>\n      <th>2.500000</th>\n      <td>125978</td>\n      <td>Santa Claus (1898)</td>\n      <td>Sci-Fi</td>\n      <td>Sci-Fi</td>\n    </tr>\n    <tr>\n      <th>3.000000</th>\n      <td>129849</td>\n      <td>Old Man Drinking a Glass of Beer (1898)</td>\n      <td>(no genres listed)</td>\n      <td>(no genres listed)</td>\n    </tr>\n    <tr>\n      <th>3.750000</th>\n      <td>82337</td>\n      <td>Four Heads Are Better Than One (Un homme de tê...</td>\n      <td>Fantasy</td>\n      <td>Fantasy</td>\n    </tr>\n    <tr>\n      <th>5.000000</th>\n      <td>94431</td>\n      <td>Ella Lola, a la Trilby (1898)</td>\n      <td>(no genres listed)</td>\n      <td>(no genres listed)</td>\n    </tr>\n    <tr>\n      <th>1899</th>\n      <th>3.625000</th>\n      <td>82362</td>\n      <td>Pyramid of Triboulet, The (La pyramide de Trib...</td>\n      <td>Fantasy</td>\n      <td>Fantasy</td>\n    </tr>\n    <tr>\n      <th>1900</th>\n      <th>3.166667</th>\n      <td>117909</td>\n      <td>The Kiss (1900)</td>\n      <td>Romance</td>\n      <td>Romance</td>\n    </tr>\n    <tr>\n      <th>1901</th>\n      <th>5.000000</th>\n      <td>94737</td>\n      <td>Boys Diving, Honolulu (1901)</td>\n      <td>Documentary</td>\n      <td>Documentary</td>\n    </tr>\n    <tr>\n      <th>1902</th>\n      <th>3.738189</th>\n      <td>32898</td>\n      <td>Trip to the Moon, A (Voyage dans la lune, Le) ...</td>\n      <td>Action|Adventure|Fantasy|Sci-Fi</td>\n      <td>Action</td>\n    </tr>\n    <tr>\n      <th>1903</th>\n      <th>3.340909</th>\n      <td>49389</td>\n      <td>Great Train Robbery, The (1903)</td>\n      <td>Crime|Western</td>\n      <td>Crime</td>\n    </tr>\n    <tr>\n      <th>1905</th>\n      <th>2.500000</th>\n      <td>125996</td>\n      <td>The Black Devil (1905)</td>\n      <td>Comedy|Fantasy</td>\n      <td>Comedy</td>\n    </tr>\n    <tr>\n      <th rowspan=\"3\" valign=\"top\">1909</th>\n      <th>2.500000</th>\n      <td>93162</td>\n      <td>Moscow Clad in Snow (Moscou sous la neige) (1909)</td>\n      <td>Documentary</td>\n      <td>Documentary</td>\n    </tr>\n    <tr>\n      <th>2.750000</th>\n      <td>120803</td>\n      <td>Those Awful Hats (1909)</td>\n      <td>Comedy</td>\n      <td>Comedy</td>\n    </tr>\n    <tr>\n      <th>3.000000</th>\n      <td>114371</td>\n      <td>Lonely Villa, The (1909)</td>\n      <td>Crime|Drama</td>\n      <td>Crime</td>\n    </tr>\n    <tr>\n      <th rowspan=\"3\" valign=\"top\">1910</th>\n      <th>2.500000</th>\n      <td>105776</td>\n      <td>Trip to Mars, A (1910)</td>\n      <td>Sci-Fi</td>\n      <td>Sci-Fi</td>\n    </tr>\n    <tr>\n      <th>3.466667</th>\n      <td>93865</td>\n      <td>Frankenstein (1910)</td>\n      <td>Drama|Horror|Sci-Fi</td>\n      <td>Drama</td>\n    </tr>\n    <tr>\n      <th>4.000000</th>\n      <td>109524</td>\n      <td>Woman Always Pays, The (Afgrunden) (Abyss, The...</td>\n      <td>Drama</td>\n      <td>Drama</td>\n    </tr>\n    <tr>\n      <th>1912</th>\n      <th>2.333333</th>\n      <td>114376</td>\n      <td>Musketeers of Pig Alley, The (1912)</td>\n      <td>Crime|Drama</td>\n      <td>Crime</td>\n    </tr>\n  </tbody>\n</table>\n</div>"
     },
     "metadata": {},
     "execution_count": 26
    }
   ],
   "source": [
    "df.groupby([\"year\", \"rating\"]).first().head(25)"
   ]
  },
  {
   "cell_type": "code",
   "execution_count": 27,
   "metadata": {},
   "outputs": [
    {
     "output_type": "execute_result",
     "data": {
      "text/plain": "movieId         int64\ntitle          object\ngenres         object\nrating        float64\nmain_genre     object\nyear            int64\ndtype: object"
     },
     "metadata": {},
     "execution_count": 27
    }
   ],
   "source": [
    "# df.describe()\n",
    "df.dtypes\n",
    "# df[df['year'] == '1894']"
   ]
  },
  {
   "cell_type": "code",
   "execution_count": 28,
   "metadata": {},
   "outputs": [
    {
     "output_type": "execute_result",
     "data": {
      "text/plain": "6.142857142857142"
     },
     "metadata": {},
     "execution_count": 28
    }
   ],
   "source": [
    "r = df[df['year'] == 1894]\n",
    "# df.head()\n",
    "r['rating'].sum()"
   ]
  },
  {
   "cell_type": "code",
   "execution_count": 29,
   "metadata": {},
   "outputs": [
    {
     "output_type": "execute_result",
     "data": {
      "text/plain": "      movieId                                          title  \\\nyear                                                           \n1891   129851                        Dickson Greeting (1891)   \n1893    95541                        Blacksmith Scene (1893)   \n1894    88674  Edison Kinetoscopic Record of a Sneeze (1894)   \n1895   113048           Tables Turned on the Gardener (1895)   \n1896    96009                               Kiss, The (1896)   \n...       ...                                            ...   \n2011    82152                                 Beastly (2011)   \n2012    89745                           Avengers, The (2012)   \n2013    95595                     Bela Kiss: Prologue (2013)   \n2014   107209                            The Outsider (2014)   \n2015   113345                       Jupiter Ascending (2015)   \n\n                            genres    rating          main_genre  \nyear                                                              \n1891            (no genres listed)  3.000000  (no genres listed)  \n1893            (no genres listed)  3.375000  (no genres listed)  \n1894                   Documentary  2.714286         Documentary  \n1895                        Comedy  2.250000              Comedy  \n1896                       Romance  2.928571             Romance  \n...                            ...       ...                 ...  \n2011         Drama|Fantasy|Romance  2.865132               Drama  \n2012  Action|Adventure|Sci-Fi|IMAX  3.949486              Action  \n2013       Horror|Mystery|Thriller  3.000000              Horror  \n2014            Action|Crime|Drama  2.666667              Action  \n2015       Action|Adventure|Sci-Fi  2.844156              Action  \n\n[118 rows x 5 columns]",
      "text/html": "<div>\n<style scoped>\n    .dataframe tbody tr th:only-of-type {\n        vertical-align: middle;\n    }\n\n    .dataframe tbody tr th {\n        vertical-align: top;\n    }\n\n    .dataframe thead th {\n        text-align: right;\n    }\n</style>\n<table border=\"1\" class=\"dataframe\">\n  <thead>\n    <tr style=\"text-align: right;\">\n      <th></th>\n      <th>movieId</th>\n      <th>title</th>\n      <th>genres</th>\n      <th>rating</th>\n      <th>main_genre</th>\n    </tr>\n    <tr>\n      <th>year</th>\n      <th></th>\n      <th></th>\n      <th></th>\n      <th></th>\n      <th></th>\n    </tr>\n  </thead>\n  <tbody>\n    <tr>\n      <th>1891</th>\n      <td>129851</td>\n      <td>Dickson Greeting (1891)</td>\n      <td>(no genres listed)</td>\n      <td>3.000000</td>\n      <td>(no genres listed)</td>\n    </tr>\n    <tr>\n      <th>1893</th>\n      <td>95541</td>\n      <td>Blacksmith Scene (1893)</td>\n      <td>(no genres listed)</td>\n      <td>3.375000</td>\n      <td>(no genres listed)</td>\n    </tr>\n    <tr>\n      <th>1894</th>\n      <td>88674</td>\n      <td>Edison Kinetoscopic Record of a Sneeze (1894)</td>\n      <td>Documentary</td>\n      <td>2.714286</td>\n      <td>Documentary</td>\n    </tr>\n    <tr>\n      <th>1895</th>\n      <td>113048</td>\n      <td>Tables Turned on the Gardener (1895)</td>\n      <td>Comedy</td>\n      <td>2.250000</td>\n      <td>Comedy</td>\n    </tr>\n    <tr>\n      <th>1896</th>\n      <td>96009</td>\n      <td>Kiss, The (1896)</td>\n      <td>Romance</td>\n      <td>2.928571</td>\n      <td>Romance</td>\n    </tr>\n    <tr>\n      <th>...</th>\n      <td>...</td>\n      <td>...</td>\n      <td>...</td>\n      <td>...</td>\n      <td>...</td>\n    </tr>\n    <tr>\n      <th>2011</th>\n      <td>82152</td>\n      <td>Beastly (2011)</td>\n      <td>Drama|Fantasy|Romance</td>\n      <td>2.865132</td>\n      <td>Drama</td>\n    </tr>\n    <tr>\n      <th>2012</th>\n      <td>89745</td>\n      <td>Avengers, The (2012)</td>\n      <td>Action|Adventure|Sci-Fi|IMAX</td>\n      <td>3.949486</td>\n      <td>Action</td>\n    </tr>\n    <tr>\n      <th>2013</th>\n      <td>95595</td>\n      <td>Bela Kiss: Prologue (2013)</td>\n      <td>Horror|Mystery|Thriller</td>\n      <td>3.000000</td>\n      <td>Horror</td>\n    </tr>\n    <tr>\n      <th>2014</th>\n      <td>107209</td>\n      <td>The Outsider (2014)</td>\n      <td>Action|Crime|Drama</td>\n      <td>2.666667</td>\n      <td>Action</td>\n    </tr>\n    <tr>\n      <th>2015</th>\n      <td>113345</td>\n      <td>Jupiter Ascending (2015)</td>\n      <td>Action|Adventure|Sci-Fi</td>\n      <td>2.844156</td>\n      <td>Action</td>\n    </tr>\n  </tbody>\n</table>\n<p>118 rows × 5 columns</p>\n</div>"
     },
     "metadata": {},
     "execution_count": 29
    }
   ],
   "source": [
    "df.groupby(\"year\").first()"
   ]
  },
  {
   "cell_type": "code",
   "execution_count": 30,
   "metadata": {
    "collapsed": true
   },
   "outputs": [
    {
     "output_type": "execute_result",
     "data": {
      "text/plain": "0        3.921240\n1        3.211977\n2        3.151040\n3        2.861393\n4        3.064592\n           ...   \n26739    4.000000\n26740    4.000000\n26741    2.500000\n26742    3.000000\n26743    4.000000\nName: rating, Length: 26722, dtype: float64"
     },
     "metadata": {},
     "execution_count": 30
    }
   ],
   "source": [
    "df['rating']"
   ]
  },
  {
   "cell_type": "code",
   "execution_count": 31,
   "metadata": {
    "tags": []
   },
   "outputs": [
    {
     "output_type": "execute_result",
     "data": {
      "text/plain": "2009    1101\n2011    1006\n2012     997\n2013     990\n2008     968\n        ... \n1899       1\n1905       1\n1902       1\n1893       1\n1903       1\nName: year, Length: 118, dtype: int64"
     },
     "metadata": {},
     "execution_count": 31
    }
   ],
   "source": [
    "g = df.groupby(\"year\").count()\n",
    "g\n",
    "df['year'].value_counts()"
   ]
  },
  {
   "cell_type": "markdown",
   "metadata": {},
   "source": [
    "What are the yearly rating averages?"
   ]
  },
  {
   "cell_type": "code",
   "execution_count": 32,
   "metadata": {},
   "outputs": [
    {
     "output_type": "execute_result",
     "data": {
      "text/plain": "     year    rating\n0    1891  3.000000\n1    1893  3.375000\n2    1894  3.071429\n3    1895  3.125000\n4    1896  3.183036\n..    ...       ...\n113  2011  3.162567\n114  2012  3.104176\n115  2013  3.145056\n116  2014  3.122809\n117  2015  2.813146\n\n[118 rows x 2 columns]",
      "text/html": "<div>\n<style scoped>\n    .dataframe tbody tr th:only-of-type {\n        vertical-align: middle;\n    }\n\n    .dataframe tbody tr th {\n        vertical-align: top;\n    }\n\n    .dataframe thead th {\n        text-align: right;\n    }\n</style>\n<table border=\"1\" class=\"dataframe\">\n  <thead>\n    <tr style=\"text-align: right;\">\n      <th></th>\n      <th>year</th>\n      <th>rating</th>\n    </tr>\n  </thead>\n  <tbody>\n    <tr>\n      <th>0</th>\n      <td>1891</td>\n      <td>3.000000</td>\n    </tr>\n    <tr>\n      <th>1</th>\n      <td>1893</td>\n      <td>3.375000</td>\n    </tr>\n    <tr>\n      <th>2</th>\n      <td>1894</td>\n      <td>3.071429</td>\n    </tr>\n    <tr>\n      <th>3</th>\n      <td>1895</td>\n      <td>3.125000</td>\n    </tr>\n    <tr>\n      <th>4</th>\n      <td>1896</td>\n      <td>3.183036</td>\n    </tr>\n    <tr>\n      <th>...</th>\n      <td>...</td>\n      <td>...</td>\n    </tr>\n    <tr>\n      <th>113</th>\n      <td>2011</td>\n      <td>3.162567</td>\n    </tr>\n    <tr>\n      <th>114</th>\n      <td>2012</td>\n      <td>3.104176</td>\n    </tr>\n    <tr>\n      <th>115</th>\n      <td>2013</td>\n      <td>3.145056</td>\n    </tr>\n    <tr>\n      <th>116</th>\n      <td>2014</td>\n      <td>3.122809</td>\n    </tr>\n    <tr>\n      <th>117</th>\n      <td>2015</td>\n      <td>2.813146</td>\n    </tr>\n  </tbody>\n</table>\n<p>118 rows × 2 columns</p>\n</div>"
     },
     "metadata": {},
     "execution_count": 32
    }
   ],
   "source": [
    "year_rating = df.groupby(\"year\")[\"rating\"].mean().reset_index()\n",
    "year_rating"
   ]
  },
  {
   "cell_type": "markdown",
   "metadata": {},
   "source": [
    "Which years have the top 3 rating averages. Are you surprised to see these years? What can potentially explain the fact that these years have the highest averages ? "
   ]
  },
  {
   "cell_type": "code",
   "execution_count": 33,
   "metadata": {
    "collapsed": true
   },
   "outputs": [
    {
     "output_type": "execute_result",
     "data": {
      "text/plain": "   year    rating\n8  1901  5.000000\n5  1898  3.850000\n9  1902  3.738189",
      "text/html": "<div>\n<style scoped>\n    .dataframe tbody tr th:only-of-type {\n        vertical-align: middle;\n    }\n\n    .dataframe tbody tr th {\n        vertical-align: top;\n    }\n\n    .dataframe thead th {\n        text-align: right;\n    }\n</style>\n<table border=\"1\" class=\"dataframe\">\n  <thead>\n    <tr style=\"text-align: right;\">\n      <th></th>\n      <th>year</th>\n      <th>rating</th>\n    </tr>\n  </thead>\n  <tbody>\n    <tr>\n      <th>8</th>\n      <td>1901</td>\n      <td>5.000000</td>\n    </tr>\n    <tr>\n      <th>5</th>\n      <td>1898</td>\n      <td>3.850000</td>\n    </tr>\n    <tr>\n      <th>9</th>\n      <td>1902</td>\n      <td>3.738189</td>\n    </tr>\n  </tbody>\n</table>\n</div>"
     },
     "metadata": {},
     "execution_count": 33
    }
   ],
   "source": [
    "year_rating.sort_values(by = ['rating'], ascending= False).head(3)"
   ]
  },
  {
   "cell_type": "markdown",
   "metadata": {},
   "source": [
    "Sort years based the number of films produced. Is there a pattern? What can we say about the movie production rate over the years. "
   ]
  },
  {
   "cell_type": "code",
   "execution_count": 34,
   "metadata": {},
   "outputs": [
    {
     "output_type": "execute_result",
     "data": {
      "text/plain": "year\n2009    1101\n2011    1006\n2012     997\n2013     990\n2008     968\n        ... \n1900       1\n1901       1\n1902       1\n1905       1\n1891       1\nName: rating, Length: 118, dtype: int64"
     },
     "metadata": {},
     "execution_count": 34
    }
   ],
   "source": [
    "number_films = df.groupby(\"year\")[\"rating\"].count()\n",
    "number_films.sort_values(ascending= False)"
   ]
  },
  {
   "cell_type": "code",
   "execution_count": 35,
   "metadata": {
    "collapsed": true
   },
   "outputs": [],
   "source": [
    "# df.groupby([\"year\", \"title\"]).first().head(25)"
   ]
  },
  {
   "cell_type": "markdown",
   "metadata": {},
   "source": [
    "Which genres are most liked ? "
   ]
  },
  {
   "cell_type": "code",
   "execution_count": 36,
   "metadata": {},
   "outputs": [
    {
     "output_type": "execute_result",
     "data": {
      "text/plain": "            main_genre    rating\n0   (no genres listed)  2.771531\n1               Action  2.976834\n2            Adventure  3.104184\n3            Animation  3.167287\n4             Children  2.888802\n5               Comedy  3.090744\n6                Crime  3.214546\n7          Documentary  3.444347\n8                Drama  3.276927\n9              Fantasy  2.997350\n10           Film-Noir  3.502881\n11              Horror  2.604157\n12                IMAX  2.533333\n13             Musical  2.957358\n14             Mystery  3.063586\n15             Romance  3.013840\n16              Sci-Fi  2.799310\n17            Thriller  2.969432\n18                 War  3.200764\n19             Western  2.986815",
      "text/html": "<div>\n<style scoped>\n    .dataframe tbody tr th:only-of-type {\n        vertical-align: middle;\n    }\n\n    .dataframe tbody tr th {\n        vertical-align: top;\n    }\n\n    .dataframe thead th {\n        text-align: right;\n    }\n</style>\n<table border=\"1\" class=\"dataframe\">\n  <thead>\n    <tr style=\"text-align: right;\">\n      <th></th>\n      <th>main_genre</th>\n      <th>rating</th>\n    </tr>\n  </thead>\n  <tbody>\n    <tr>\n      <th>0</th>\n      <td>(no genres listed)</td>\n      <td>2.771531</td>\n    </tr>\n    <tr>\n      <th>1</th>\n      <td>Action</td>\n      <td>2.976834</td>\n    </tr>\n    <tr>\n      <th>2</th>\n      <td>Adventure</td>\n      <td>3.104184</td>\n    </tr>\n    <tr>\n      <th>3</th>\n      <td>Animation</td>\n      <td>3.167287</td>\n    </tr>\n    <tr>\n      <th>4</th>\n      <td>Children</td>\n      <td>2.888802</td>\n    </tr>\n    <tr>\n      <th>5</th>\n      <td>Comedy</td>\n      <td>3.090744</td>\n    </tr>\n    <tr>\n      <th>6</th>\n      <td>Crime</td>\n      <td>3.214546</td>\n    </tr>\n    <tr>\n      <th>7</th>\n      <td>Documentary</td>\n      <td>3.444347</td>\n    </tr>\n    <tr>\n      <th>8</th>\n      <td>Drama</td>\n      <td>3.276927</td>\n    </tr>\n    <tr>\n      <th>9</th>\n      <td>Fantasy</td>\n      <td>2.997350</td>\n    </tr>\n    <tr>\n      <th>10</th>\n      <td>Film-Noir</td>\n      <td>3.502881</td>\n    </tr>\n    <tr>\n      <th>11</th>\n      <td>Horror</td>\n      <td>2.604157</td>\n    </tr>\n    <tr>\n      <th>12</th>\n      <td>IMAX</td>\n      <td>2.533333</td>\n    </tr>\n    <tr>\n      <th>13</th>\n      <td>Musical</td>\n      <td>2.957358</td>\n    </tr>\n    <tr>\n      <th>14</th>\n      <td>Mystery</td>\n      <td>3.063586</td>\n    </tr>\n    <tr>\n      <th>15</th>\n      <td>Romance</td>\n      <td>3.013840</td>\n    </tr>\n    <tr>\n      <th>16</th>\n      <td>Sci-Fi</td>\n      <td>2.799310</td>\n    </tr>\n    <tr>\n      <th>17</th>\n      <td>Thriller</td>\n      <td>2.969432</td>\n    </tr>\n    <tr>\n      <th>18</th>\n      <td>War</td>\n      <td>3.200764</td>\n    </tr>\n    <tr>\n      <th>19</th>\n      <td>Western</td>\n      <td>2.986815</td>\n    </tr>\n  </tbody>\n</table>\n</div>"
     },
     "metadata": {},
     "execution_count": 36
    }
   ],
   "source": [
    "genre_liked = df.groupby(\"main_genre\")[\"rating\"].mean().reset_index()\n",
    "genre_liked"
   ]
  },
  {
   "cell_type": "code",
   "execution_count": 37,
   "metadata": {},
   "outputs": [
    {
     "output_type": "execute_result",
     "data": {
      "text/plain": "0              Film-Noir\n1            Documentary\n2                  Drama\n3                  Crime\n4                    War\n5              Animation\n6              Adventure\n7                 Comedy\n8                Mystery\n9                Romance\n10               Fantasy\n11               Western\n12                Action\n13              Thriller\n14               Musical\n15              Children\n16                Sci-Fi\n17    (no genres listed)\n18                Horror\n19                  IMAX\nName: main_genre, dtype: object"
     },
     "metadata": {},
     "execution_count": 37
    }
   ],
   "source": [
    "highest_rated_genre = genre_liked.sort_values(by = ['rating'], ascending= False)\n",
    "highest_rated_genre[\"main_genre\"].reset_index(drop= True)"
   ]
  },
  {
   "cell_type": "markdown",
   "metadata": {
    "collapsed": true
   },
   "source": [
    "Which genres are most popular (in terms of production) ? "
   ]
  },
  {
   "cell_type": "code",
   "execution_count": 56,
   "metadata": {
    "collapsed": true
   },
   "outputs": [
    {
     "output_type": "execute_result",
     "data": {
      "text/plain": "main_genre\nDrama                 7709\nComedy                6668\nAction                3465\nDocumentary           2173\nCrime                 1586\nHorror                1366\nAdventure             1330\nAnimation              560\nChildren               405\nThriller               275\n(no genres listed)     233\nWestern                207\nSci-Fi                 162\nRomance                143\nMystery                139\nFantasy                135\nMusical                 92\nFilm-Noir               38\nWar                     35\nIMAX                     1\nName: rating, dtype: int64"
     },
     "metadata": {},
     "execution_count": 56
    }
   ],
   "source": [
    "# genre_count = df.groupby(\"year\").head(3)\n",
    "\n",
    "genre_count = df.groupby(\"main_genre\").count()\n",
    "genre_count = g.sort_values(by = ['rating'], ascending= False)\n",
    "genre_count.loc[:, 'rating']\n",
    "\n",
    "# df['year'].value_counts()\n",
    "\n",
    "# df.groupby([\"year\", \"rating\"]).first().head(25)\n",
    "\n",
    "# r = df[df['main_genre'] == 1894]\n",
    "# # df.head()\n",
    "# r['rating'].count()\n",
    "\n",
    "\n",
    "# genre_count = df.groupby(['year'])\n",
    "# genre_count.first()\n",
    "# genre_count"
   ]
  },
  {
   "cell_type": "markdown",
   "metadata": {
    "cell_style": "center",
    "hide_input": false,
    "slideshow": {
     "slide_type": "slide"
    }
   },
   "source": [
    "**Open Ended:** You are considering to invest in a movie. Having this dataset, try to narrow your options to a single genre. That's find the find the genre of movies that are more \"investible\". \n",
    "\n",
    "You can consider a few of parameters: \n",
    " - average rating: it can be considered as the likelihood that the movie will be better received considering some genres have better ratings than others.  \n",
    " - number of movies: You can also consider the competition. \n",
    " - changes over the years: Another aspect to explore is whether these genres are getting better or worse over the (recent) years. \n",
    " - rating volatility (standard deviation): Also think about whether you are a risk taker or risk averse. Do you want to invest in a higly volitale genre (in terms of its ratings) or do you prefer to invest in a stable genre.   \n",
    " \n",
    "While there are no wrong answers here, please support your decision with appropriate data analysis using pandas."
   ]
  },
  {
   "cell_type": "code",
   "execution_count": 41,
   "metadata": {
    "collapsed": true
   },
   "outputs": [
    {
     "output_type": "execute_result",
     "data": {
      "text/plain": "Drama                 7709\nComedy                6668\nAction                3465\nDocumentary           2173\nCrime                 1586\nHorror                1366\nAdventure             1330\nAnimation              560\nChildren               405\nThriller               275\n(no genres listed)     233\nWestern                207\nSci-Fi                 162\nRomance                143\nMystery                139\nFantasy                135\nMusical                 92\nFilm-Noir               38\nWar                     35\nIMAX                     1\nName: main_genre, dtype: int64"
     },
     "metadata": {},
     "execution_count": 41
    }
   ],
   "source": [
    "df['main_genre'].value_counts()"
   ]
  },
  {
   "cell_type": "code",
   "execution_count": 42,
   "metadata": {
    "collapsed": true
   },
   "outputs": [
    {
     "output_type": "execute_result",
     "data": {
      "text/plain": "            main_genre    rating\n0   (no genres listed)  2.771531\n1               Action  2.976834\n2            Adventure  3.104184\n3            Animation  3.167287\n4             Children  2.888802\n5               Comedy  3.090744\n6                Crime  3.214546\n7          Documentary  3.444347\n8                Drama  3.276927\n9              Fantasy  2.997350\n10           Film-Noir  3.502881\n11              Horror  2.604157\n12                IMAX  2.533333\n13             Musical  2.957358\n14             Mystery  3.063586\n15             Romance  3.013840\n16              Sci-Fi  2.799310\n17            Thriller  2.969432\n18                 War  3.200764\n19             Western  2.986815",
      "text/html": "<div>\n<style scoped>\n    .dataframe tbody tr th:only-of-type {\n        vertical-align: middle;\n    }\n\n    .dataframe tbody tr th {\n        vertical-align: top;\n    }\n\n    .dataframe thead th {\n        text-align: right;\n    }\n</style>\n<table border=\"1\" class=\"dataframe\">\n  <thead>\n    <tr style=\"text-align: right;\">\n      <th></th>\n      <th>main_genre</th>\n      <th>rating</th>\n    </tr>\n  </thead>\n  <tbody>\n    <tr>\n      <th>0</th>\n      <td>(no genres listed)</td>\n      <td>2.771531</td>\n    </tr>\n    <tr>\n      <th>1</th>\n      <td>Action</td>\n      <td>2.976834</td>\n    </tr>\n    <tr>\n      <th>2</th>\n      <td>Adventure</td>\n      <td>3.104184</td>\n    </tr>\n    <tr>\n      <th>3</th>\n      <td>Animation</td>\n      <td>3.167287</td>\n    </tr>\n    <tr>\n      <th>4</th>\n      <td>Children</td>\n      <td>2.888802</td>\n    </tr>\n    <tr>\n      <th>5</th>\n      <td>Comedy</td>\n      <td>3.090744</td>\n    </tr>\n    <tr>\n      <th>6</th>\n      <td>Crime</td>\n      <td>3.214546</td>\n    </tr>\n    <tr>\n      <th>7</th>\n      <td>Documentary</td>\n      <td>3.444347</td>\n    </tr>\n    <tr>\n      <th>8</th>\n      <td>Drama</td>\n      <td>3.276927</td>\n    </tr>\n    <tr>\n      <th>9</th>\n      <td>Fantasy</td>\n      <td>2.997350</td>\n    </tr>\n    <tr>\n      <th>10</th>\n      <td>Film-Noir</td>\n      <td>3.502881</td>\n    </tr>\n    <tr>\n      <th>11</th>\n      <td>Horror</td>\n      <td>2.604157</td>\n    </tr>\n    <tr>\n      <th>12</th>\n      <td>IMAX</td>\n      <td>2.533333</td>\n    </tr>\n    <tr>\n      <th>13</th>\n      <td>Musical</td>\n      <td>2.957358</td>\n    </tr>\n    <tr>\n      <th>14</th>\n      <td>Mystery</td>\n      <td>3.063586</td>\n    </tr>\n    <tr>\n      <th>15</th>\n      <td>Romance</td>\n      <td>3.013840</td>\n    </tr>\n    <tr>\n      <th>16</th>\n      <td>Sci-Fi</td>\n      <td>2.799310</td>\n    </tr>\n    <tr>\n      <th>17</th>\n      <td>Thriller</td>\n      <td>2.969432</td>\n    </tr>\n    <tr>\n      <th>18</th>\n      <td>War</td>\n      <td>3.200764</td>\n    </tr>\n    <tr>\n      <th>19</th>\n      <td>Western</td>\n      <td>2.986815</td>\n    </tr>\n  </tbody>\n</table>\n</div>"
     },
     "metadata": {},
     "execution_count": 42
    }
   ],
   "source": [
    "genre_liked"
   ]
  },
  {
   "source": [
    "Considering the average ratings and number of movies made overall comparing \"highest_rated_genre\" and \"genre_count\". I would invest in Documentary genre as it has highest average ratings and highest number of movies made. Which gives us a better mean and is a safer bet compared with user preferences over all these years according to the dataset."
   ],
   "cell_type": "markdown",
   "metadata": {}
  },
  {
   "source": [],
   "cell_type": "markdown",
   "metadata": {}
  },
  {
   "source": [
    "# import matplotlib.pyplot as plt\n",
    "# year_liked = df.groupby([\"main_genre\", \"year\"])[\"rating\"].mean().reset_index()\n",
    "# year_liked.head(50)"
   ],
   "cell_type": "code",
   "metadata": {},
   "execution_count": null,
   "outputs": []
  }
 ],
 "metadata": {
  "kernelspec": {
   "display_name": "Python 3",
   "language": "python",
   "name": "python3"
  },
  "language_info": {
   "codemirror_mode": {
    "name": "ipython",
    "version": 3
   },
   "file_extension": ".py",
   "mimetype": "text/x-python",
   "name": "python",
   "nbconvert_exporter": "python",
   "pygments_lexer": "ipython3",
   "version": "3.8.3-final"
  }
 },
 "nbformat": 4,
 "nbformat_minor": 2
}