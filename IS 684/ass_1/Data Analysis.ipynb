{
 "cells": [
  {
   "cell_type": "code",
   "execution_count": 27,
   "metadata": {
    "hide_input": false,
    "slideshow": {
     "slide_type": "slide"
    }
   },
   "outputs": [],
   "source": [
    "## Run the following code for data prep\n",
    "import pandas as pd \n",
    "\n",
    "df=pd.read_csv('movie_ratings.csv' )\n",
    "\n",
    "first_genre=df['genres'].str.split('|', expand=True)[0]\n",
    "df['main_genre']=first_genre\n",
    "\n",
    "df['title']=df['title'].str.strip()\n",
    "df['year']=df['title'].str[-5:-1]\n",
    "df=df[df['year'].str.isnumeric()]\n",
    "df['year']=pd.to_numeric(df['year'])"
   ]
  },
  {
   "cell_type": "code",
   "execution_count": 28,
   "metadata": {},
   "outputs": [
    {
     "output_type": "execute_result",
     "data": {
      "text/plain": "               movieId                                          title  \\\nyear rating                                                             \n1891 3.000000   129851                        Dickson Greeting (1891)   \n1893 3.375000    95541                        Blacksmith Scene (1893)   \n1894 2.714286    88674  Edison Kinetoscopic Record of a Sneeze (1894)   \n     3.428571    94951         Dickson Experimental Sound Film (1894)   \n1895 2.250000   113048           Tables Turned on the Gardener (1895)   \n...                ...                                            ...   \n2015 3.632075   119145            Kingsman: The Secret Service (2015)   \n     3.666667   127202          Me and Earl and the Dying Girl (2015)   \n     3.800000   127098    Louis C.K.: Live at The Comedy Store (2015)   \n     4.000000   127148                      The Hunting Ground (2015)   \n     4.500000   127206                  People, Places, Things (2015)   \n\n                                      genres          main_genre  \nyear rating                                                       \n1891 3.000000             (no genres listed)  (no genres listed)  \n1893 3.375000             (no genres listed)  (no genres listed)  \n1894 2.714286                    Documentary         Documentary  \n     3.428571                        Musical             Musical  \n1895 2.250000                         Comedy              Comedy  \n...                                      ...                 ...  \n2015 3.632075  Action|Adventure|Comedy|Crime              Action  \n     3.666667                          Drama               Drama  \n     3.800000                         Comedy              Comedy  \n     4.000000                    Documentary         Documentary  \n     4.500000                         Comedy              Comedy  \n\n[17632 rows x 4 columns]",
      "text/html": "<div>\n<style scoped>\n    .dataframe tbody tr th:only-of-type {\n        vertical-align: middle;\n    }\n\n    .dataframe tbody tr th {\n        vertical-align: top;\n    }\n\n    .dataframe thead th {\n        text-align: right;\n    }\n</style>\n<table border=\"1\" class=\"dataframe\">\n  <thead>\n    <tr style=\"text-align: right;\">\n      <th></th>\n      <th></th>\n      <th>movieId</th>\n      <th>title</th>\n      <th>genres</th>\n      <th>main_genre</th>\n    </tr>\n    <tr>\n      <th>year</th>\n      <th>rating</th>\n      <th></th>\n      <th></th>\n      <th></th>\n      <th></th>\n    </tr>\n  </thead>\n  <tbody>\n    <tr>\n      <th>1891</th>\n      <th>3.000000</th>\n      <td>129851</td>\n      <td>Dickson Greeting (1891)</td>\n      <td>(no genres listed)</td>\n      <td>(no genres listed)</td>\n    </tr>\n    <tr>\n      <th>1893</th>\n      <th>3.375000</th>\n      <td>95541</td>\n      <td>Blacksmith Scene (1893)</td>\n      <td>(no genres listed)</td>\n      <td>(no genres listed)</td>\n    </tr>\n    <tr>\n      <th rowspan=\"2\" valign=\"top\">1894</th>\n      <th>2.714286</th>\n      <td>88674</td>\n      <td>Edison Kinetoscopic Record of a Sneeze (1894)</td>\n      <td>Documentary</td>\n      <td>Documentary</td>\n    </tr>\n    <tr>\n      <th>3.428571</th>\n      <td>94951</td>\n      <td>Dickson Experimental Sound Film (1894)</td>\n      <td>Musical</td>\n      <td>Musical</td>\n    </tr>\n    <tr>\n      <th>1895</th>\n      <th>2.250000</th>\n      <td>113048</td>\n      <td>Tables Turned on the Gardener (1895)</td>\n      <td>Comedy</td>\n      <td>Comedy</td>\n    </tr>\n    <tr>\n      <th>...</th>\n      <th>...</th>\n      <td>...</td>\n      <td>...</td>\n      <td>...</td>\n      <td>...</td>\n    </tr>\n    <tr>\n      <th rowspan=\"5\" valign=\"top\">2015</th>\n      <th>3.632075</th>\n      <td>119145</td>\n      <td>Kingsman: The Secret Service (2015)</td>\n      <td>Action|Adventure|Comedy|Crime</td>\n      <td>Action</td>\n    </tr>\n    <tr>\n      <th>3.666667</th>\n      <td>127202</td>\n      <td>Me and Earl and the Dying Girl (2015)</td>\n      <td>Drama</td>\n      <td>Drama</td>\n    </tr>\n    <tr>\n      <th>3.800000</th>\n      <td>127098</td>\n      <td>Louis C.K.: Live at The Comedy Store (2015)</td>\n      <td>Comedy</td>\n      <td>Comedy</td>\n    </tr>\n    <tr>\n      <th>4.000000</th>\n      <td>127148</td>\n      <td>The Hunting Ground (2015)</td>\n      <td>Documentary</td>\n      <td>Documentary</td>\n    </tr>\n    <tr>\n      <th>4.500000</th>\n      <td>127206</td>\n      <td>People, Places, Things (2015)</td>\n      <td>Comedy</td>\n      <td>Comedy</td>\n    </tr>\n  </tbody>\n</table>\n<p>17632 rows × 4 columns</p>\n</div>"
     },
     "metadata": {},
     "execution_count": 28
    }
   ],
   "source": [
    "r = df.groupby(['year', 'rating'])\n",
    "r.first()"
   ]
  },
  {
   "cell_type": "code",
   "execution_count": 29,
   "metadata": {},
   "outputs": [
    {
     "output_type": "execute_result",
     "data": {
      "text/plain": "       movieId                          title                    genres  \\\n26739   131254   Kein Bund für's Leben (2007)                    Comedy   \n26740   131256  Feuer, Eis & Dosenbier (2002)                    Comedy   \n26741   131258             The Pirates (2014)                 Adventure   \n26742   131260            Rentun Ruusu (2001)        (no genres listed)   \n26743   131262               Innocence (2014)  Adventure|Fantasy|Horror   \n\n       rating          main_genre  year  \n26739     4.0              Comedy  2007  \n26740     4.0              Comedy  2002  \n26741     2.5           Adventure  2014  \n26742     3.0  (no genres listed)  2001  \n26743     4.0           Adventure  2014  ",
      "text/html": "<div>\n<style scoped>\n    .dataframe tbody tr th:only-of-type {\n        vertical-align: middle;\n    }\n\n    .dataframe tbody tr th {\n        vertical-align: top;\n    }\n\n    .dataframe thead th {\n        text-align: right;\n    }\n</style>\n<table border=\"1\" class=\"dataframe\">\n  <thead>\n    <tr style=\"text-align: right;\">\n      <th></th>\n      <th>movieId</th>\n      <th>title</th>\n      <th>genres</th>\n      <th>rating</th>\n      <th>main_genre</th>\n      <th>year</th>\n    </tr>\n  </thead>\n  <tbody>\n    <tr>\n      <th>26739</th>\n      <td>131254</td>\n      <td>Kein Bund für's Leben (2007)</td>\n      <td>Comedy</td>\n      <td>4.0</td>\n      <td>Comedy</td>\n      <td>2007</td>\n    </tr>\n    <tr>\n      <th>26740</th>\n      <td>131256</td>\n      <td>Feuer, Eis &amp; Dosenbier (2002)</td>\n      <td>Comedy</td>\n      <td>4.0</td>\n      <td>Comedy</td>\n      <td>2002</td>\n    </tr>\n    <tr>\n      <th>26741</th>\n      <td>131258</td>\n      <td>The Pirates (2014)</td>\n      <td>Adventure</td>\n      <td>2.5</td>\n      <td>Adventure</td>\n      <td>2014</td>\n    </tr>\n    <tr>\n      <th>26742</th>\n      <td>131260</td>\n      <td>Rentun Ruusu (2001)</td>\n      <td>(no genres listed)</td>\n      <td>3.0</td>\n      <td>(no genres listed)</td>\n      <td>2001</td>\n    </tr>\n    <tr>\n      <th>26743</th>\n      <td>131262</td>\n      <td>Innocence (2014)</td>\n      <td>Adventure|Fantasy|Horror</td>\n      <td>4.0</td>\n      <td>Adventure</td>\n      <td>2014</td>\n    </tr>\n  </tbody>\n</table>\n</div>"
     },
     "metadata": {},
     "execution_count": 29
    }
   ],
   "source": [
    "df.tail()"
   ]
  },
  {
   "cell_type": "code",
   "execution_count": 30,
   "metadata": {},
   "outputs": [
    {
     "output_type": "execute_result",
     "data": {
      "text/plain": "               movieId                                              title  \\\nyear rating                                                                 \n1891 3.000000   129851                            Dickson Greeting (1891)   \n1893 3.375000    95541                            Blacksmith Scene (1893)   \n1894 2.714286    88674      Edison Kinetoscopic Record of a Sneeze (1894)   \n     3.428571    94951             Dickson Experimental Sound Film (1894)   \n1895 2.250000   113048               Tables Turned on the Gardener (1895)   \n     4.000000   120869       Employees Leaving the Lumière Factory (1895)   \n1896 2.928571    96009                                   Kiss, The (1896)   \n     3.437500    98981                     Arrival of a Train, The (1896)   \n1898 2.500000   125978                                 Santa Claus (1898)   \n     3.000000   129849            Old Man Drinking a Glass of Beer (1898)   \n     3.750000    82337  Four Heads Are Better Than One (Un homme de tê...   \n     5.000000    94431                      Ella Lola, a la Trilby (1898)   \n1899 3.625000    82362  Pyramid of Triboulet, The (La pyramide de Trib...   \n1900 3.166667   117909                                    The Kiss (1900)   \n1901 5.000000    94737                       Boys Diving, Honolulu (1901)   \n1902 3.738189    32898  Trip to the Moon, A (Voyage dans la lune, Le) ...   \n1903 3.340909    49389                    Great Train Robbery, The (1903)   \n1905 2.500000   125996                             The Black Devil (1905)   \n1909 2.500000    93162  Moscow Clad in Snow (Moscou sous la neige) (1909)   \n     2.750000   120803                            Those Awful Hats (1909)   \n     3.000000   114371                           Lonely Villa, The (1909)   \n1910 2.500000   105776                             Trip to Mars, A (1910)   \n     3.466667    93865                                Frankenstein (1910)   \n     4.000000   109524  Woman Always Pays, The (Afgrunden) (Abyss, The...   \n1912 2.333333   114376                Musketeers of Pig Alley, The (1912)   \n\n                                        genres          main_genre  \nyear rating                                                         \n1891 3.000000               (no genres listed)  (no genres listed)  \n1893 3.375000               (no genres listed)  (no genres listed)  \n1894 2.714286                      Documentary         Documentary  \n     3.428571                          Musical             Musical  \n1895 2.250000                           Comedy              Comedy  \n     4.000000                      Documentary         Documentary  \n1896 2.928571                          Romance             Romance  \n     3.437500                      Documentary         Documentary  \n1898 2.500000                           Sci-Fi              Sci-Fi  \n     3.000000               (no genres listed)  (no genres listed)  \n     3.750000                          Fantasy             Fantasy  \n     5.000000               (no genres listed)  (no genres listed)  \n1899 3.625000                          Fantasy             Fantasy  \n1900 3.166667                          Romance             Romance  \n1901 5.000000                      Documentary         Documentary  \n1902 3.738189  Action|Adventure|Fantasy|Sci-Fi              Action  \n1903 3.340909                    Crime|Western               Crime  \n1905 2.500000                   Comedy|Fantasy              Comedy  \n1909 2.500000                      Documentary         Documentary  \n     2.750000                           Comedy              Comedy  \n     3.000000                      Crime|Drama               Crime  \n1910 2.500000                           Sci-Fi              Sci-Fi  \n     3.466667              Drama|Horror|Sci-Fi               Drama  \n     4.000000                            Drama               Drama  \n1912 2.333333                      Crime|Drama               Crime  ",
      "text/html": "<div>\n<style scoped>\n    .dataframe tbody tr th:only-of-type {\n        vertical-align: middle;\n    }\n\n    .dataframe tbody tr th {\n        vertical-align: top;\n    }\n\n    .dataframe thead th {\n        text-align: right;\n    }\n</style>\n<table border=\"1\" class=\"dataframe\">\n  <thead>\n    <tr style=\"text-align: right;\">\n      <th></th>\n      <th></th>\n      <th>movieId</th>\n      <th>title</th>\n      <th>genres</th>\n      <th>main_genre</th>\n    </tr>\n    <tr>\n      <th>year</th>\n      <th>rating</th>\n      <th></th>\n      <th></th>\n      <th></th>\n      <th></th>\n    </tr>\n  </thead>\n  <tbody>\n    <tr>\n      <th>1891</th>\n      <th>3.000000</th>\n      <td>129851</td>\n      <td>Dickson Greeting (1891)</td>\n      <td>(no genres listed)</td>\n      <td>(no genres listed)</td>\n    </tr>\n    <tr>\n      <th>1893</th>\n      <th>3.375000</th>\n      <td>95541</td>\n      <td>Blacksmith Scene (1893)</td>\n      <td>(no genres listed)</td>\n      <td>(no genres listed)</td>\n    </tr>\n    <tr>\n      <th rowspan=\"2\" valign=\"top\">1894</th>\n      <th>2.714286</th>\n      <td>88674</td>\n      <td>Edison Kinetoscopic Record of a Sneeze (1894)</td>\n      <td>Documentary</td>\n      <td>Documentary</td>\n    </tr>\n    <tr>\n      <th>3.428571</th>\n      <td>94951</td>\n      <td>Dickson Experimental Sound Film (1894)</td>\n      <td>Musical</td>\n      <td>Musical</td>\n    </tr>\n    <tr>\n      <th rowspan=\"2\" valign=\"top\">1895</th>\n      <th>2.250000</th>\n      <td>113048</td>\n      <td>Tables Turned on the Gardener (1895)</td>\n      <td>Comedy</td>\n      <td>Comedy</td>\n    </tr>\n    <tr>\n      <th>4.000000</th>\n      <td>120869</td>\n      <td>Employees Leaving the Lumière Factory (1895)</td>\n      <td>Documentary</td>\n      <td>Documentary</td>\n    </tr>\n    <tr>\n      <th rowspan=\"2\" valign=\"top\">1896</th>\n      <th>2.928571</th>\n      <td>96009</td>\n      <td>Kiss, The (1896)</td>\n      <td>Romance</td>\n      <td>Romance</td>\n    </tr>\n    <tr>\n      <th>3.437500</th>\n      <td>98981</td>\n      <td>Arrival of a Train, The (1896)</td>\n      <td>Documentary</td>\n      <td>Documentary</td>\n    </tr>\n    <tr>\n      <th rowspan=\"4\" valign=\"top\">1898</th>\n      <th>2.500000</th>\n      <td>125978</td>\n      <td>Santa Claus (1898)</td>\n      <td>Sci-Fi</td>\n      <td>Sci-Fi</td>\n    </tr>\n    <tr>\n      <th>3.000000</th>\n      <td>129849</td>\n      <td>Old Man Drinking a Glass of Beer (1898)</td>\n      <td>(no genres listed)</td>\n      <td>(no genres listed)</td>\n    </tr>\n    <tr>\n      <th>3.750000</th>\n      <td>82337</td>\n      <td>Four Heads Are Better Than One (Un homme de tê...</td>\n      <td>Fantasy</td>\n      <td>Fantasy</td>\n    </tr>\n    <tr>\n      <th>5.000000</th>\n      <td>94431</td>\n      <td>Ella Lola, a la Trilby (1898)</td>\n      <td>(no genres listed)</td>\n      <td>(no genres listed)</td>\n    </tr>\n    <tr>\n      <th>1899</th>\n      <th>3.625000</th>\n      <td>82362</td>\n      <td>Pyramid of Triboulet, The (La pyramide de Trib...</td>\n      <td>Fantasy</td>\n      <td>Fantasy</td>\n    </tr>\n    <tr>\n      <th>1900</th>\n      <th>3.166667</th>\n      <td>117909</td>\n      <td>The Kiss (1900)</td>\n      <td>Romance</td>\n      <td>Romance</td>\n    </tr>\n    <tr>\n      <th>1901</th>\n      <th>5.000000</th>\n      <td>94737</td>\n      <td>Boys Diving, Honolulu (1901)</td>\n      <td>Documentary</td>\n      <td>Documentary</td>\n    </tr>\n    <tr>\n      <th>1902</th>\n      <th>3.738189</th>\n      <td>32898</td>\n      <td>Trip to the Moon, A (Voyage dans la lune, Le) ...</td>\n      <td>Action|Adventure|Fantasy|Sci-Fi</td>\n      <td>Action</td>\n    </tr>\n    <tr>\n      <th>1903</th>\n      <th>3.340909</th>\n      <td>49389</td>\n      <td>Great Train Robbery, The (1903)</td>\n      <td>Crime|Western</td>\n      <td>Crime</td>\n    </tr>\n    <tr>\n      <th>1905</th>\n      <th>2.500000</th>\n      <td>125996</td>\n      <td>The Black Devil (1905)</td>\n      <td>Comedy|Fantasy</td>\n      <td>Comedy</td>\n    </tr>\n    <tr>\n      <th rowspan=\"3\" valign=\"top\">1909</th>\n      <th>2.500000</th>\n      <td>93162</td>\n      <td>Moscow Clad in Snow (Moscou sous la neige) (1909)</td>\n      <td>Documentary</td>\n      <td>Documentary</td>\n    </tr>\n    <tr>\n      <th>2.750000</th>\n      <td>120803</td>\n      <td>Those Awful Hats (1909)</td>\n      <td>Comedy</td>\n      <td>Comedy</td>\n    </tr>\n    <tr>\n      <th>3.000000</th>\n      <td>114371</td>\n      <td>Lonely Villa, The (1909)</td>\n      <td>Crime|Drama</td>\n      <td>Crime</td>\n    </tr>\n    <tr>\n      <th rowspan=\"3\" valign=\"top\">1910</th>\n      <th>2.500000</th>\n      <td>105776</td>\n      <td>Trip to Mars, A (1910)</td>\n      <td>Sci-Fi</td>\n      <td>Sci-Fi</td>\n    </tr>\n    <tr>\n      <th>3.466667</th>\n      <td>93865</td>\n      <td>Frankenstein (1910)</td>\n      <td>Drama|Horror|Sci-Fi</td>\n      <td>Drama</td>\n    </tr>\n    <tr>\n      <th>4.000000</th>\n      <td>109524</td>\n      <td>Woman Always Pays, The (Afgrunden) (Abyss, The...</td>\n      <td>Drama</td>\n      <td>Drama</td>\n    </tr>\n    <tr>\n      <th>1912</th>\n      <th>2.333333</th>\n      <td>114376</td>\n      <td>Musketeers of Pig Alley, The (1912)</td>\n      <td>Crime|Drama</td>\n      <td>Crime</td>\n    </tr>\n  </tbody>\n</table>\n</div>"
     },
     "metadata": {},
     "execution_count": 30
    }
   ],
   "source": [
    "df.groupby([\"year\", \"rating\"]).first().head(25)"
   ]
  },
  {
   "cell_type": "code",
   "execution_count": 31,
   "metadata": {},
   "outputs": [
    {
     "output_type": "execute_result",
     "data": {
      "text/plain": "movieId         int64\ntitle          object\ngenres         object\nrating        float64\nmain_genre     object\nyear            int64\ndtype: object"
     },
     "metadata": {},
     "execution_count": 31
    }
   ],
   "source": [
    "# df.describe()\n",
    "df.dtypes\n",
    "# df[df['year'] == '1894']"
   ]
  },
  {
   "cell_type": "code",
   "execution_count": 32,
   "metadata": {},
   "outputs": [
    {
     "output_type": "execute_result",
     "data": {
      "text/plain": "6.142857142857142"
     },
     "metadata": {},
     "execution_count": 32
    }
   ],
   "source": [
    "r = df[df['year'] == 1894]\n",
    "# df.head()\n",
    "r['rating'].sum()"
   ]
  },
  {
   "cell_type": "code",
   "execution_count": 33,
   "metadata": {},
   "outputs": [
    {
     "output_type": "execute_result",
     "data": {
      "text/plain": "      movieId                                          title  \\\nyear                                                           \n1891   129851                        Dickson Greeting (1891)   \n1893    95541                        Blacksmith Scene (1893)   \n1894    88674  Edison Kinetoscopic Record of a Sneeze (1894)   \n1895   113048           Tables Turned on the Gardener (1895)   \n1896    96009                               Kiss, The (1896)   \n...       ...                                            ...   \n2011    82152                                 Beastly (2011)   \n2012    89745                           Avengers, The (2012)   \n2013    95595                     Bela Kiss: Prologue (2013)   \n2014   107209                            The Outsider (2014)   \n2015   113345                       Jupiter Ascending (2015)   \n\n                            genres    rating          main_genre  \nyear                                                              \n1891            (no genres listed)  3.000000  (no genres listed)  \n1893            (no genres listed)  3.375000  (no genres listed)  \n1894                   Documentary  2.714286         Documentary  \n1895                        Comedy  2.250000              Comedy  \n1896                       Romance  2.928571             Romance  \n...                            ...       ...                 ...  \n2011         Drama|Fantasy|Romance  2.865132               Drama  \n2012  Action|Adventure|Sci-Fi|IMAX  3.949486              Action  \n2013       Horror|Mystery|Thriller  3.000000              Horror  \n2014            Action|Crime|Drama  2.666667              Action  \n2015       Action|Adventure|Sci-Fi  2.844156              Action  \n\n[118 rows x 5 columns]",
      "text/html": "<div>\n<style scoped>\n    .dataframe tbody tr th:only-of-type {\n        vertical-align: middle;\n    }\n\n    .dataframe tbody tr th {\n        vertical-align: top;\n    }\n\n    .dataframe thead th {\n        text-align: right;\n    }\n</style>\n<table border=\"1\" class=\"dataframe\">\n  <thead>\n    <tr style=\"text-align: right;\">\n      <th></th>\n      <th>movieId</th>\n      <th>title</th>\n      <th>genres</th>\n      <th>rating</th>\n      <th>main_genre</th>\n    </tr>\n    <tr>\n      <th>year</th>\n      <th></th>\n      <th></th>\n      <th></th>\n      <th></th>\n      <th></th>\n    </tr>\n  </thead>\n  <tbody>\n    <tr>\n      <th>1891</th>\n      <td>129851</td>\n      <td>Dickson Greeting (1891)</td>\n      <td>(no genres listed)</td>\n      <td>3.000000</td>\n      <td>(no genres listed)</td>\n    </tr>\n    <tr>\n      <th>1893</th>\n      <td>95541</td>\n      <td>Blacksmith Scene (1893)</td>\n      <td>(no genres listed)</td>\n      <td>3.375000</td>\n      <td>(no genres listed)</td>\n    </tr>\n    <tr>\n      <th>1894</th>\n      <td>88674</td>\n      <td>Edison Kinetoscopic Record of a Sneeze (1894)</td>\n      <td>Documentary</td>\n      <td>2.714286</td>\n      <td>Documentary</td>\n    </tr>\n    <tr>\n      <th>1895</th>\n      <td>113048</td>\n      <td>Tables Turned on the Gardener (1895)</td>\n      <td>Comedy</td>\n      <td>2.250000</td>\n      <td>Comedy</td>\n    </tr>\n    <tr>\n      <th>1896</th>\n      <td>96009</td>\n      <td>Kiss, The (1896)</td>\n      <td>Romance</td>\n      <td>2.928571</td>\n      <td>Romance</td>\n    </tr>\n    <tr>\n      <th>...</th>\n      <td>...</td>\n      <td>...</td>\n      <td>...</td>\n      <td>...</td>\n      <td>...</td>\n    </tr>\n    <tr>\n      <th>2011</th>\n      <td>82152</td>\n      <td>Beastly (2011)</td>\n      <td>Drama|Fantasy|Romance</td>\n      <td>2.865132</td>\n      <td>Drama</td>\n    </tr>\n    <tr>\n      <th>2012</th>\n      <td>89745</td>\n      <td>Avengers, The (2012)</td>\n      <td>Action|Adventure|Sci-Fi|IMAX</td>\n      <td>3.949486</td>\n      <td>Action</td>\n    </tr>\n    <tr>\n      <th>2013</th>\n      <td>95595</td>\n      <td>Bela Kiss: Prologue (2013)</td>\n      <td>Horror|Mystery|Thriller</td>\n      <td>3.000000</td>\n      <td>Horror</td>\n    </tr>\n    <tr>\n      <th>2014</th>\n      <td>107209</td>\n      <td>The Outsider (2014)</td>\n      <td>Action|Crime|Drama</td>\n      <td>2.666667</td>\n      <td>Action</td>\n    </tr>\n    <tr>\n      <th>2015</th>\n      <td>113345</td>\n      <td>Jupiter Ascending (2015)</td>\n      <td>Action|Adventure|Sci-Fi</td>\n      <td>2.844156</td>\n      <td>Action</td>\n    </tr>\n  </tbody>\n</table>\n<p>118 rows × 5 columns</p>\n</div>"
     },
     "metadata": {},
     "execution_count": 33
    }
   ],
   "source": [
    "df.groupby(\"year\").first()"
   ]
  },
  {
   "cell_type": "code",
   "execution_count": 34,
   "metadata": {
    "collapsed": true
   },
   "outputs": [
    {
     "output_type": "execute_result",
     "data": {
      "text/plain": "0        3.921240\n1        3.211977\n2        3.151040\n3        2.861393\n4        3.064592\n           ...   \n26739    4.000000\n26740    4.000000\n26741    2.500000\n26742    3.000000\n26743    4.000000\nName: rating, Length: 26722, dtype: float64"
     },
     "metadata": {},
     "execution_count": 34
    }
   ],
   "source": [
    "df['rating']"
   ]
  },
  {
   "cell_type": "code",
   "execution_count": 35,
   "metadata": {
    "tags": []
   },
   "outputs": [
    {
     "output_type": "execute_result",
     "data": {
      "text/plain": "2009    1101\n2011    1006\n2012     997\n2013     990\n2008     968\n        ... \n1899       1\n1905       1\n1902       1\n1893       1\n1903       1\nName: year, Length: 118, dtype: int64"
     },
     "metadata": {},
     "execution_count": 35
    }
   ],
   "source": [
    "g = df.groupby(\"year\").count()\n",
    "g\n",
    "df['year'].value_counts()"
   ]
  },
  {
   "cell_type": "markdown",
   "metadata": {},
   "source": [
    "What are the yearly rating averages?"
   ]
  },
  {
   "cell_type": "code",
   "execution_count": 36,
   "metadata": {},
   "outputs": [
    {
     "output_type": "execute_result",
     "data": {
      "text/plain": "     year    rating\n0    1891  3.000000\n1    1893  3.375000\n2    1894  3.071429\n3    1895  3.125000\n4    1896  3.183036\n..    ...       ...\n113  2011  3.162567\n114  2012  3.104176\n115  2013  3.145056\n116  2014  3.122809\n117  2015  2.813146\n\n[118 rows x 2 columns]",
      "text/html": "<div>\n<style scoped>\n    .dataframe tbody tr th:only-of-type {\n        vertical-align: middle;\n    }\n\n    .dataframe tbody tr th {\n        vertical-align: top;\n    }\n\n    .dataframe thead th {\n        text-align: right;\n    }\n</style>\n<table border=\"1\" class=\"dataframe\">\n  <thead>\n    <tr style=\"text-align: right;\">\n      <th></th>\n      <th>year</th>\n      <th>rating</th>\n    </tr>\n  </thead>\n  <tbody>\n    <tr>\n      <th>0</th>\n      <td>1891</td>\n      <td>3.000000</td>\n    </tr>\n    <tr>\n      <th>1</th>\n      <td>1893</td>\n      <td>3.375000</td>\n    </tr>\n    <tr>\n      <th>2</th>\n      <td>1894</td>\n      <td>3.071429</td>\n    </tr>\n    <tr>\n      <th>3</th>\n      <td>1895</td>\n      <td>3.125000</td>\n    </tr>\n    <tr>\n      <th>4</th>\n      <td>1896</td>\n      <td>3.183036</td>\n    </tr>\n    <tr>\n      <th>...</th>\n      <td>...</td>\n      <td>...</td>\n    </tr>\n    <tr>\n      <th>113</th>\n      <td>2011</td>\n      <td>3.162567</td>\n    </tr>\n    <tr>\n      <th>114</th>\n      <td>2012</td>\n      <td>3.104176</td>\n    </tr>\n    <tr>\n      <th>115</th>\n      <td>2013</td>\n      <td>3.145056</td>\n    </tr>\n    <tr>\n      <th>116</th>\n      <td>2014</td>\n      <td>3.122809</td>\n    </tr>\n    <tr>\n      <th>117</th>\n      <td>2015</td>\n      <td>2.813146</td>\n    </tr>\n  </tbody>\n</table>\n<p>118 rows × 2 columns</p>\n</div>"
     },
     "metadata": {},
     "execution_count": 36
    }
   ],
   "source": [
    "year_rating = df.groupby(\"year\")[\"rating\"].mean().reset_index()\n",
    "year_rating"
   ]
  },
  {
   "cell_type": "markdown",
   "metadata": {},
   "source": [
    "Which years have the top 3 rating averages. Are you surprised to see these years? What can potentially explain the fact that these years have the highest averages ? "
   ]
  },
  {
   "cell_type": "code",
   "execution_count": 37,
   "metadata": {
    "collapsed": true
   },
   "outputs": [
    {
     "output_type": "execute_result",
     "data": {
      "text/plain": "   year    rating\n8  1901  5.000000\n5  1898  3.850000\n9  1902  3.738189",
      "text/html": "<div>\n<style scoped>\n    .dataframe tbody tr th:only-of-type {\n        vertical-align: middle;\n    }\n\n    .dataframe tbody tr th {\n        vertical-align: top;\n    }\n\n    .dataframe thead th {\n        text-align: right;\n    }\n</style>\n<table border=\"1\" class=\"dataframe\">\n  <thead>\n    <tr style=\"text-align: right;\">\n      <th></th>\n      <th>year</th>\n      <th>rating</th>\n    </tr>\n  </thead>\n  <tbody>\n    <tr>\n      <th>8</th>\n      <td>1901</td>\n      <td>5.000000</td>\n    </tr>\n    <tr>\n      <th>5</th>\n      <td>1898</td>\n      <td>3.850000</td>\n    </tr>\n    <tr>\n      <th>9</th>\n      <td>1902</td>\n      <td>3.738189</td>\n    </tr>\n  </tbody>\n</table>\n</div>"
     },
     "metadata": {},
     "execution_count": 37
    }
   ],
   "source": [
    "year_rating.sort_values(by = ['rating'], ascending= False).head(3)"
   ]
  },
  {
   "cell_type": "markdown",
   "metadata": {},
   "source": [
    "Sort years based the number of films produced. Is there a pattern? What can we say about the movie production rate over the years. "
   ]
  },
  {
   "cell_type": "code",
   "execution_count": 38,
   "metadata": {},
   "outputs": [
    {
     "output_type": "execute_result",
     "data": {
      "text/plain": "                                                          title  \\\nyear movieId                                                      \n1891 129851                             Dickson Greeting (1891)   \n1893 95541                              Blacksmith Scene (1893)   \n1894 88674        Edison Kinetoscopic Record of a Sneeze (1894)   \n     94951               Dickson Experimental Sound Film (1894)   \n1895 113048                Tables Turned on the Gardener (1895)   \n     120869        Employees Leaving the Lumière Factory (1895)   \n1896 96009                                     Kiss, The (1896)   \n     98981                       Arrival of a Train, The (1896)   \n1898 82337    Four Heads Are Better Than One (Un homme de tê...   \n     94431                        Ella Lola, a la Trilby (1898)   \n     94657                      Turkish Dance, Ella Lola (1898)   \n     125978                                  Santa Claus (1898)   \n     129849             Old Man Drinking a Glass of Beer (1898)   \n1899 82362    Pyramid of Triboulet, The (La pyramide de Trib...   \n1900 117909                                     The Kiss (1900)   \n1901 94737                         Boys Diving, Honolulu (1901)   \n1902 32898    Trip to the Moon, A (Voyage dans la lune, Le) ...   \n1903 49389                      Great Train Robbery, The (1903)   \n1905 125996                              The Black Devil (1905)   \n1909 93162    Moscow Clad in Snow (Moscou sous la neige) (1909)   \n     114371                            Lonely Villa, The (1909)   \n     120803                             Those Awful Hats (1909)   \n1910 93865                                  Frankenstein (1910)   \n     105776                              Trip to Mars, A (1910)   \n     109524   Woman Always Pays, The (Afgrunden) (Abyss, The...   \n\n                                       genres    rating          main_genre  \nyear movieId                                                                 \n1891 129851                (no genres listed)  3.000000  (no genres listed)  \n1893 95541                 (no genres listed)  3.375000  (no genres listed)  \n1894 88674                        Documentary  2.714286         Documentary  \n     94951                            Musical  3.428571             Musical  \n1895 113048                            Comedy  2.250000              Comedy  \n     120869                       Documentary  4.000000         Documentary  \n1896 96009                            Romance  2.928571             Romance  \n     98981                        Documentary  3.437500         Documentary  \n1898 82337                            Fantasy  3.750000             Fantasy  \n     94431                 (no genres listed)  5.000000  (no genres listed)  \n     94657                 (no genres listed)  5.000000  (no genres listed)  \n     125978                            Sci-Fi  2.500000              Sci-Fi  \n     129849                (no genres listed)  3.000000  (no genres listed)  \n1899 82362                            Fantasy  3.625000             Fantasy  \n1900 117909                           Romance  3.166667             Romance  \n1901 94737                        Documentary  5.000000         Documentary  \n1902 32898    Action|Adventure|Fantasy|Sci-Fi  3.738189              Action  \n1903 49389                      Crime|Western  3.340909               Crime  \n1905 125996                    Comedy|Fantasy  2.500000              Comedy  \n1909 93162                        Documentary  2.500000         Documentary  \n     114371                       Crime|Drama  3.000000               Crime  \n     120803                            Comedy  2.750000              Comedy  \n1910 93865                Drama|Horror|Sci-Fi  3.466667               Drama  \n     105776                            Sci-Fi  2.500000              Sci-Fi  \n     109524                             Drama  4.000000               Drama  ",
      "text/html": "<div>\n<style scoped>\n    .dataframe tbody tr th:only-of-type {\n        vertical-align: middle;\n    }\n\n    .dataframe tbody tr th {\n        vertical-align: top;\n    }\n\n    .dataframe thead th {\n        text-align: right;\n    }\n</style>\n<table border=\"1\" class=\"dataframe\">\n  <thead>\n    <tr style=\"text-align: right;\">\n      <th></th>\n      <th></th>\n      <th>title</th>\n      <th>genres</th>\n      <th>rating</th>\n      <th>main_genre</th>\n    </tr>\n    <tr>\n      <th>year</th>\n      <th>movieId</th>\n      <th></th>\n      <th></th>\n      <th></th>\n      <th></th>\n    </tr>\n  </thead>\n  <tbody>\n    <tr>\n      <th>1891</th>\n      <th>129851</th>\n      <td>Dickson Greeting (1891)</td>\n      <td>(no genres listed)</td>\n      <td>3.000000</td>\n      <td>(no genres listed)</td>\n    </tr>\n    <tr>\n      <th>1893</th>\n      <th>95541</th>\n      <td>Blacksmith Scene (1893)</td>\n      <td>(no genres listed)</td>\n      <td>3.375000</td>\n      <td>(no genres listed)</td>\n    </tr>\n    <tr>\n      <th rowspan=\"2\" valign=\"top\">1894</th>\n      <th>88674</th>\n      <td>Edison Kinetoscopic Record of a Sneeze (1894)</td>\n      <td>Documentary</td>\n      <td>2.714286</td>\n      <td>Documentary</td>\n    </tr>\n    <tr>\n      <th>94951</th>\n      <td>Dickson Experimental Sound Film (1894)</td>\n      <td>Musical</td>\n      <td>3.428571</td>\n      <td>Musical</td>\n    </tr>\n    <tr>\n      <th rowspan=\"2\" valign=\"top\">1895</th>\n      <th>113048</th>\n      <td>Tables Turned on the Gardener (1895)</td>\n      <td>Comedy</td>\n      <td>2.250000</td>\n      <td>Comedy</td>\n    </tr>\n    <tr>\n      <th>120869</th>\n      <td>Employees Leaving the Lumière Factory (1895)</td>\n      <td>Documentary</td>\n      <td>4.000000</td>\n      <td>Documentary</td>\n    </tr>\n    <tr>\n      <th rowspan=\"2\" valign=\"top\">1896</th>\n      <th>96009</th>\n      <td>Kiss, The (1896)</td>\n      <td>Romance</td>\n      <td>2.928571</td>\n      <td>Romance</td>\n    </tr>\n    <tr>\n      <th>98981</th>\n      <td>Arrival of a Train, The (1896)</td>\n      <td>Documentary</td>\n      <td>3.437500</td>\n      <td>Documentary</td>\n    </tr>\n    <tr>\n      <th rowspan=\"5\" valign=\"top\">1898</th>\n      <th>82337</th>\n      <td>Four Heads Are Better Than One (Un homme de tê...</td>\n      <td>Fantasy</td>\n      <td>3.750000</td>\n      <td>Fantasy</td>\n    </tr>\n    <tr>\n      <th>94431</th>\n      <td>Ella Lola, a la Trilby (1898)</td>\n      <td>(no genres listed)</td>\n      <td>5.000000</td>\n      <td>(no genres listed)</td>\n    </tr>\n    <tr>\n      <th>94657</th>\n      <td>Turkish Dance, Ella Lola (1898)</td>\n      <td>(no genres listed)</td>\n      <td>5.000000</td>\n      <td>(no genres listed)</td>\n    </tr>\n    <tr>\n      <th>125978</th>\n      <td>Santa Claus (1898)</td>\n      <td>Sci-Fi</td>\n      <td>2.500000</td>\n      <td>Sci-Fi</td>\n    </tr>\n    <tr>\n      <th>129849</th>\n      <td>Old Man Drinking a Glass of Beer (1898)</td>\n      <td>(no genres listed)</td>\n      <td>3.000000</td>\n      <td>(no genres listed)</td>\n    </tr>\n    <tr>\n      <th>1899</th>\n      <th>82362</th>\n      <td>Pyramid of Triboulet, The (La pyramide de Trib...</td>\n      <td>Fantasy</td>\n      <td>3.625000</td>\n      <td>Fantasy</td>\n    </tr>\n    <tr>\n      <th>1900</th>\n      <th>117909</th>\n      <td>The Kiss (1900)</td>\n      <td>Romance</td>\n      <td>3.166667</td>\n      <td>Romance</td>\n    </tr>\n    <tr>\n      <th>1901</th>\n      <th>94737</th>\n      <td>Boys Diving, Honolulu (1901)</td>\n      <td>Documentary</td>\n      <td>5.000000</td>\n      <td>Documentary</td>\n    </tr>\n    <tr>\n      <th>1902</th>\n      <th>32898</th>\n      <td>Trip to the Moon, A (Voyage dans la lune, Le) ...</td>\n      <td>Action|Adventure|Fantasy|Sci-Fi</td>\n      <td>3.738189</td>\n      <td>Action</td>\n    </tr>\n    <tr>\n      <th>1903</th>\n      <th>49389</th>\n      <td>Great Train Robbery, The (1903)</td>\n      <td>Crime|Western</td>\n      <td>3.340909</td>\n      <td>Crime</td>\n    </tr>\n    <tr>\n      <th>1905</th>\n      <th>125996</th>\n      <td>The Black Devil (1905)</td>\n      <td>Comedy|Fantasy</td>\n      <td>2.500000</td>\n      <td>Comedy</td>\n    </tr>\n    <tr>\n      <th rowspan=\"3\" valign=\"top\">1909</th>\n      <th>93162</th>\n      <td>Moscow Clad in Snow (Moscou sous la neige) (1909)</td>\n      <td>Documentary</td>\n      <td>2.500000</td>\n      <td>Documentary</td>\n    </tr>\n    <tr>\n      <th>114371</th>\n      <td>Lonely Villa, The (1909)</td>\n      <td>Crime|Drama</td>\n      <td>3.000000</td>\n      <td>Crime</td>\n    </tr>\n    <tr>\n      <th>120803</th>\n      <td>Those Awful Hats (1909)</td>\n      <td>Comedy</td>\n      <td>2.750000</td>\n      <td>Comedy</td>\n    </tr>\n    <tr>\n      <th rowspan=\"3\" valign=\"top\">1910</th>\n      <th>93865</th>\n      <td>Frankenstein (1910)</td>\n      <td>Drama|Horror|Sci-Fi</td>\n      <td>3.466667</td>\n      <td>Drama</td>\n    </tr>\n    <tr>\n      <th>105776</th>\n      <td>Trip to Mars, A (1910)</td>\n      <td>Sci-Fi</td>\n      <td>2.500000</td>\n      <td>Sci-Fi</td>\n    </tr>\n    <tr>\n      <th>109524</th>\n      <td>Woman Always Pays, The (Afgrunden) (Abyss, The...</td>\n      <td>Drama</td>\n      <td>4.000000</td>\n      <td>Drama</td>\n    </tr>\n  </tbody>\n</table>\n</div>"
     },
     "metadata": {},
     "execution_count": 38
    }
   ],
   "source": [
    "df.groupby([\"year\", \"movieId\"]).first().head(25)"
   ]
  },
  {
   "cell_type": "code",
   "execution_count": 39,
   "metadata": {
    "collapsed": true
   },
   "outputs": [
    {
     "output_type": "execute_result",
     "data": {
      "text/plain": "                                                         movieId  \\\nyear title                                                         \n1891 Dickson Greeting (1891)                              129851   \n1893 Blacksmith Scene (1893)                               95541   \n1894 Dickson Experimental Sound Film (1894)                94951   \n     Edison Kinetoscopic Record of a Sneeze (1894)         88674   \n1895 Employees Leaving the Lumière Factory (1895)         120869   \n     Tables Turned on the Gardener (1895)                 113048   \n1896 Arrival of a Train, The (1896)                        98981   \n     Kiss, The (1896)                                      96009   \n1898 Ella Lola, a la Trilby (1898)                         94431   \n     Four Heads Are Better Than One (Un homme de têt...    82337   \n     Old Man Drinking a Glass of Beer (1898)              129849   \n     Santa Claus (1898)                                   125978   \n     Turkish Dance, Ella Lola (1898)                       94657   \n1899 Pyramid of Triboulet, The (La pyramide de Tribo...    82362   \n1900 The Kiss (1900)                                      117909   \n1901 Boys Diving, Honolulu (1901)                          94737   \n1902 Trip to the Moon, A (Voyage dans la lune, Le) (...    32898   \n1903 Great Train Robbery, The (1903)                       49389   \n1905 The Black Devil (1905)                               125996   \n1909 Lonely Villa, The (1909)                             114371   \n     Moscow Clad in Snow (Moscou sous la neige) (1909)     93162   \n     Those Awful Hats (1909)                              120803   \n1910 Frankenstein (1910)                                   93865   \n     Trip to Mars, A (1910)                               105776   \n     Woman Always Pays, The (Afgrunden) (Abyss, The)...   109524   \n\n                                                                                  genres  \\\nyear title                                                                                 \n1891 Dickson Greeting (1891)                                          (no genres listed)   \n1893 Blacksmith Scene (1893)                                          (no genres listed)   \n1894 Dickson Experimental Sound Film (1894)                                      Musical   \n     Edison Kinetoscopic Record of a Sneeze (1894)                           Documentary   \n1895 Employees Leaving the Lumière Factory (1895)                            Documentary   \n     Tables Turned on the Gardener (1895)                                         Comedy   \n1896 Arrival of a Train, The (1896)                                          Documentary   \n     Kiss, The (1896)                                                            Romance   \n1898 Ella Lola, a la Trilby (1898)                                    (no genres listed)   \n     Four Heads Are Better Than One (Un homme de têt...                          Fantasy   \n     Old Man Drinking a Glass of Beer (1898)                          (no genres listed)   \n     Santa Claus (1898)                                                           Sci-Fi   \n     Turkish Dance, Ella Lola (1898)                                  (no genres listed)   \n1899 Pyramid of Triboulet, The (La pyramide de Tribo...                          Fantasy   \n1900 The Kiss (1900)                                                             Romance   \n1901 Boys Diving, Honolulu (1901)                                            Documentary   \n1902 Trip to the Moon, A (Voyage dans la lune, Le) (...  Action|Adventure|Fantasy|Sci-Fi   \n1903 Great Train Robbery, The (1903)                                       Crime|Western   \n1905 The Black Devil (1905)                                               Comedy|Fantasy   \n1909 Lonely Villa, The (1909)                                                Crime|Drama   \n     Moscow Clad in Snow (Moscou sous la neige) (1909)                       Documentary   \n     Those Awful Hats (1909)                                                      Comedy   \n1910 Frankenstein (1910)                                             Drama|Horror|Sci-Fi   \n     Trip to Mars, A (1910)                                                       Sci-Fi   \n     Woman Always Pays, The (Afgrunden) (Abyss, The)...                            Drama   \n\n                                                           rating  \\\nyear title                                                          \n1891 Dickson Greeting (1891)                             3.000000   \n1893 Blacksmith Scene (1893)                             3.375000   \n1894 Dickson Experimental Sound Film (1894)              3.428571   \n     Edison Kinetoscopic Record of a Sneeze (1894)       2.714286   \n1895 Employees Leaving the Lumière Factory (1895)        4.000000   \n     Tables Turned on the Gardener (1895)                2.250000   \n1896 Arrival of a Train, The (1896)                      3.437500   \n     Kiss, The (1896)                                    2.928571   \n1898 Ella Lola, a la Trilby (1898)                       5.000000   \n     Four Heads Are Better Than One (Un homme de têt...  3.750000   \n     Old Man Drinking a Glass of Beer (1898)             3.000000   \n     Santa Claus (1898)                                  2.500000   \n     Turkish Dance, Ella Lola (1898)                     5.000000   \n1899 Pyramid of Triboulet, The (La pyramide de Tribo...  3.625000   \n1900 The Kiss (1900)                                     3.166667   \n1901 Boys Diving, Honolulu (1901)                        5.000000   \n1902 Trip to the Moon, A (Voyage dans la lune, Le) (...  3.738189   \n1903 Great Train Robbery, The (1903)                     3.340909   \n1905 The Black Devil (1905)                              2.500000   \n1909 Lonely Villa, The (1909)                            3.000000   \n     Moscow Clad in Snow (Moscou sous la neige) (1909)   2.500000   \n     Those Awful Hats (1909)                             2.750000   \n1910 Frankenstein (1910)                                 3.466667   \n     Trip to Mars, A (1910)                              2.500000   \n     Woman Always Pays, The (Afgrunden) (Abyss, The)...  4.000000   \n\n                                                                 main_genre  \nyear title                                                                   \n1891 Dickson Greeting (1891)                             (no genres listed)  \n1893 Blacksmith Scene (1893)                             (no genres listed)  \n1894 Dickson Experimental Sound Film (1894)                         Musical  \n     Edison Kinetoscopic Record of a Sneeze (1894)              Documentary  \n1895 Employees Leaving the Lumière Factory (1895)               Documentary  \n     Tables Turned on the Gardener (1895)                            Comedy  \n1896 Arrival of a Train, The (1896)                             Documentary  \n     Kiss, The (1896)                                               Romance  \n1898 Ella Lola, a la Trilby (1898)                       (no genres listed)  \n     Four Heads Are Better Than One (Un homme de têt...             Fantasy  \n     Old Man Drinking a Glass of Beer (1898)             (no genres listed)  \n     Santa Claus (1898)                                              Sci-Fi  \n     Turkish Dance, Ella Lola (1898)                     (no genres listed)  \n1899 Pyramid of Triboulet, The (La pyramide de Tribo...             Fantasy  \n1900 The Kiss (1900)                                                Romance  \n1901 Boys Diving, Honolulu (1901)                               Documentary  \n1902 Trip to the Moon, A (Voyage dans la lune, Le) (...              Action  \n1903 Great Train Robbery, The (1903)                                  Crime  \n1905 The Black Devil (1905)                                          Comedy  \n1909 Lonely Villa, The (1909)                                         Crime  \n     Moscow Clad in Snow (Moscou sous la neige) (1909)          Documentary  \n     Those Awful Hats (1909)                                         Comedy  \n1910 Frankenstein (1910)                                              Drama  \n     Trip to Mars, A (1910)                                          Sci-Fi  \n     Woman Always Pays, The (Afgrunden) (Abyss, The)...               Drama  ",
      "text/html": "<div>\n<style scoped>\n    .dataframe tbody tr th:only-of-type {\n        vertical-align: middle;\n    }\n\n    .dataframe tbody tr th {\n        vertical-align: top;\n    }\n\n    .dataframe thead th {\n        text-align: right;\n    }\n</style>\n<table border=\"1\" class=\"dataframe\">\n  <thead>\n    <tr style=\"text-align: right;\">\n      <th></th>\n      <th></th>\n      <th>movieId</th>\n      <th>genres</th>\n      <th>rating</th>\n      <th>main_genre</th>\n    </tr>\n    <tr>\n      <th>year</th>\n      <th>title</th>\n      <th></th>\n      <th></th>\n      <th></th>\n      <th></th>\n    </tr>\n  </thead>\n  <tbody>\n    <tr>\n      <th>1891</th>\n      <th>Dickson Greeting (1891)</th>\n      <td>129851</td>\n      <td>(no genres listed)</td>\n      <td>3.000000</td>\n      <td>(no genres listed)</td>\n    </tr>\n    <tr>\n      <th>1893</th>\n      <th>Blacksmith Scene (1893)</th>\n      <td>95541</td>\n      <td>(no genres listed)</td>\n      <td>3.375000</td>\n      <td>(no genres listed)</td>\n    </tr>\n    <tr>\n      <th rowspan=\"2\" valign=\"top\">1894</th>\n      <th>Dickson Experimental Sound Film (1894)</th>\n      <td>94951</td>\n      <td>Musical</td>\n      <td>3.428571</td>\n      <td>Musical</td>\n    </tr>\n    <tr>\n      <th>Edison Kinetoscopic Record of a Sneeze (1894)</th>\n      <td>88674</td>\n      <td>Documentary</td>\n      <td>2.714286</td>\n      <td>Documentary</td>\n    </tr>\n    <tr>\n      <th rowspan=\"2\" valign=\"top\">1895</th>\n      <th>Employees Leaving the Lumière Factory (1895)</th>\n      <td>120869</td>\n      <td>Documentary</td>\n      <td>4.000000</td>\n      <td>Documentary</td>\n    </tr>\n    <tr>\n      <th>Tables Turned on the Gardener (1895)</th>\n      <td>113048</td>\n      <td>Comedy</td>\n      <td>2.250000</td>\n      <td>Comedy</td>\n    </tr>\n    <tr>\n      <th rowspan=\"2\" valign=\"top\">1896</th>\n      <th>Arrival of a Train, The (1896)</th>\n      <td>98981</td>\n      <td>Documentary</td>\n      <td>3.437500</td>\n      <td>Documentary</td>\n    </tr>\n    <tr>\n      <th>Kiss, The (1896)</th>\n      <td>96009</td>\n      <td>Romance</td>\n      <td>2.928571</td>\n      <td>Romance</td>\n    </tr>\n    <tr>\n      <th rowspan=\"5\" valign=\"top\">1898</th>\n      <th>Ella Lola, a la Trilby (1898)</th>\n      <td>94431</td>\n      <td>(no genres listed)</td>\n      <td>5.000000</td>\n      <td>(no genres listed)</td>\n    </tr>\n    <tr>\n      <th>Four Heads Are Better Than One (Un homme de tête) (1898)</th>\n      <td>82337</td>\n      <td>Fantasy</td>\n      <td>3.750000</td>\n      <td>Fantasy</td>\n    </tr>\n    <tr>\n      <th>Old Man Drinking a Glass of Beer (1898)</th>\n      <td>129849</td>\n      <td>(no genres listed)</td>\n      <td>3.000000</td>\n      <td>(no genres listed)</td>\n    </tr>\n    <tr>\n      <th>Santa Claus (1898)</th>\n      <td>125978</td>\n      <td>Sci-Fi</td>\n      <td>2.500000</td>\n      <td>Sci-Fi</td>\n    </tr>\n    <tr>\n      <th>Turkish Dance, Ella Lola (1898)</th>\n      <td>94657</td>\n      <td>(no genres listed)</td>\n      <td>5.000000</td>\n      <td>(no genres listed)</td>\n    </tr>\n    <tr>\n      <th>1899</th>\n      <th>Pyramid of Triboulet, The (La pyramide de Triboulet) (1899)</th>\n      <td>82362</td>\n      <td>Fantasy</td>\n      <td>3.625000</td>\n      <td>Fantasy</td>\n    </tr>\n    <tr>\n      <th>1900</th>\n      <th>The Kiss (1900)</th>\n      <td>117909</td>\n      <td>Romance</td>\n      <td>3.166667</td>\n      <td>Romance</td>\n    </tr>\n    <tr>\n      <th>1901</th>\n      <th>Boys Diving, Honolulu (1901)</th>\n      <td>94737</td>\n      <td>Documentary</td>\n      <td>5.000000</td>\n      <td>Documentary</td>\n    </tr>\n    <tr>\n      <th>1902</th>\n      <th>Trip to the Moon, A (Voyage dans la lune, Le) (1902)</th>\n      <td>32898</td>\n      <td>Action|Adventure|Fantasy|Sci-Fi</td>\n      <td>3.738189</td>\n      <td>Action</td>\n    </tr>\n    <tr>\n      <th>1903</th>\n      <th>Great Train Robbery, The (1903)</th>\n      <td>49389</td>\n      <td>Crime|Western</td>\n      <td>3.340909</td>\n      <td>Crime</td>\n    </tr>\n    <tr>\n      <th>1905</th>\n      <th>The Black Devil (1905)</th>\n      <td>125996</td>\n      <td>Comedy|Fantasy</td>\n      <td>2.500000</td>\n      <td>Comedy</td>\n    </tr>\n    <tr>\n      <th rowspan=\"3\" valign=\"top\">1909</th>\n      <th>Lonely Villa, The (1909)</th>\n      <td>114371</td>\n      <td>Crime|Drama</td>\n      <td>3.000000</td>\n      <td>Crime</td>\n    </tr>\n    <tr>\n      <th>Moscow Clad in Snow (Moscou sous la neige) (1909)</th>\n      <td>93162</td>\n      <td>Documentary</td>\n      <td>2.500000</td>\n      <td>Documentary</td>\n    </tr>\n    <tr>\n      <th>Those Awful Hats (1909)</th>\n      <td>120803</td>\n      <td>Comedy</td>\n      <td>2.750000</td>\n      <td>Comedy</td>\n    </tr>\n    <tr>\n      <th rowspan=\"3\" valign=\"top\">1910</th>\n      <th>Frankenstein (1910)</th>\n      <td>93865</td>\n      <td>Drama|Horror|Sci-Fi</td>\n      <td>3.466667</td>\n      <td>Drama</td>\n    </tr>\n    <tr>\n      <th>Trip to Mars, A (1910)</th>\n      <td>105776</td>\n      <td>Sci-Fi</td>\n      <td>2.500000</td>\n      <td>Sci-Fi</td>\n    </tr>\n    <tr>\n      <th>Woman Always Pays, The (Afgrunden) (Abyss, The) (1910)</th>\n      <td>109524</td>\n      <td>Drama</td>\n      <td>4.000000</td>\n      <td>Drama</td>\n    </tr>\n  </tbody>\n</table>\n</div>"
     },
     "metadata": {},
     "execution_count": 39
    }
   ],
   "source": [
    "df.groupby([\"year\", \"title\"]).first().head(25)"
   ]
  },
  {
   "cell_type": "markdown",
   "metadata": {},
   "source": [
    "Which genres are most liked ? "
   ]
  },
  {
   "cell_type": "code",
   "execution_count": null,
   "metadata": {},
   "outputs": [],
   "source": []
  },
  {
   "cell_type": "markdown",
   "metadata": {
    "collapsed": true
   },
   "source": [
    "Which genres are most popular (in terms of production) ? "
   ]
  },
  {
   "cell_type": "code",
   "execution_count": null,
   "metadata": {
    "collapsed": true
   },
   "outputs": [],
   "source": []
  },
  {
   "cell_type": "markdown",
   "metadata": {
    "cell_style": "center",
    "hide_input": false,
    "slideshow": {
     "slide_type": "slide"
    }
   },
   "source": [
    "**Open Ended:** You are considering to invest in a movie. Having this dataset, try to narrow your options to a single genre. That's find the find the genre of movies that are more \"investible\". \n",
    "\n",
    "You can consider a few of parameters: \n",
    " - average rating: it can be considered as the likelihood that the movie will be better received considering some genres have better ratings than others.  \n",
    " - number of movies: You can also consider the competition. \n",
    " - changes over the years: Another aspect to explore is whether these genres are getting better or worse over the (recent) years. \n",
    " - rating volatility (standard deviation): Also think about whether you are a risk taker or risk averse. Do you want to invest in a higly volitale genre (in terms of its ratings) or do you prefer to invest in a stable genre.   \n",
    " \n",
    "While there are no wrong answers here, please support your decision with appropriate data analysis using pandas."
   ]
  },
  {
   "cell_type": "code",
   "execution_count": null,
   "metadata": {
    "collapsed": true
   },
   "outputs": [],
   "source": []
  },
  {
   "cell_type": "code",
   "execution_count": null,
   "metadata": {
    "collapsed": true
   },
   "outputs": [],
   "source": []
  }
 ],
 "metadata": {
  "kernelspec": {
   "display_name": "Python 3",
   "language": "python",
   "name": "python3"
  },
  "language_info": {
   "codemirror_mode": {
    "name": "ipython",
    "version": 3
   },
   "file_extension": ".py",
   "mimetype": "text/x-python",
   "name": "python",
   "nbconvert_exporter": "python",
   "pygments_lexer": "ipython3",
   "version": "3.8.3-final"
  }
 },
 "nbformat": 4,
 "nbformat_minor": 2
}