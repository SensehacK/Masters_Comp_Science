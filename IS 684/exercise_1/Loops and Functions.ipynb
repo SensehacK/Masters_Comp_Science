{
 "cells": [
  {
   "cell_type": "code",
   "execution_count": 3,
   "metadata": {},
   "outputs": [],
   "source": [
    "## Make sure you run this chunck to load the libraries\n",
    "import math\n",
    "import random"
   ]
  },
  {
   "cell_type": "markdown",
   "metadata": {},
   "source": [
    "## Loops"
   ]
  },
  {
   "cell_type": "markdown",
   "metadata": {},
   "source": [
    "**1.** With a for loop, write a happy new year to a group friends stored in a list. (friends = ['Joseph', 'Glenn', 'Sally']). Your output should read: \n",
    "\n",
    "Happy New Year Joseph!  \n",
    "Happy New Year Glenn!   \n",
    "Happy New Year Sally!  \n",
    "Bye!  "
   ]
  },
  {
   "cell_type": "code",
   "execution_count": 4,
   "metadata": {
    "tags": []
   },
   "outputs": [
    {
     "output_type": "stream",
     "name": "stdout",
     "text": "Happy New Year Joseph\nHappy New Year Glenn\nHappy New Year Sally\nBye!\n"
    }
   ],
   "source": [
    "friends = ['Joseph', 'Glenn', 'Sally']\n",
    "for name in friends:\n",
    "    print(\"Happy New Year \" + name)\n",
    "    \n",
    "print(\"Bye!\")"
   ]
  },
  {
   "cell_type": "markdown",
   "metadata": {},
   "source": [
    "**2.** With a for loop, find how many numbers there are in the following list of positive numbers:  \n",
    "numbers= [9, 41, 12, 3, 74, 15]"
   ]
  },
  {
   "cell_type": "code",
   "execution_count": 5,
   "metadata": {
    "tags": []
   },
   "outputs": [
    {
     "output_type": "stream",
     "name": "stdout",
     "text": "6\n"
    }
   ],
   "source": [
    "numbers= [9, 41, 12, 3, 74, 15]\n",
    "print(len(numbers))"
   ]
  },
  {
   "cell_type": "markdown",
   "metadata": {},
   "source": [
    "**3**. With a for loop, find how many even numbers there are in the 'numbers'"
   ]
  },
  {
   "cell_type": "code",
   "execution_count": 6,
   "metadata": {
    "tags": []
   },
   "outputs": [
    {
     "output_type": "stream",
     "name": "stdout",
     "text": "2\n"
    }
   ],
   "source": [
    "count = 0\n",
    "for number in numbers:\n",
    "    if number % 2 == 0:\n",
    "        count+= 1\n",
    "\n",
    "print(count)"
   ]
  },
  {
   "cell_type": "markdown",
   "metadata": {},
   "source": [
    "**4.** With a for loop, create a new list with the odd values in the 'numbers'. The result should be a list such as:  odds= [9, 41, 3, 15]"
   ]
  },
  {
   "cell_type": "code",
   "execution_count": 7,
   "metadata": {
    "tags": []
   },
   "outputs": [
    {
     "output_type": "stream",
     "name": "stdout",
     "text": "[9, 41, 3, 15]\n"
    }
   ],
   "source": [
    "odd_list = []\n",
    "for number in numbers:\n",
    "    if number % 2 != 0:\n",
    "        odd_list.append(number)\n",
    "\n",
    "print(odd_list)"
   ]
  },
  {
   "cell_type": "markdown",
   "metadata": {},
   "source": [
    "**5**. With a for loop find the largest number in the following list of positive numbers:  \n",
    "  numbers=  [9, 41, 12, 3, 74, 15] "
   ]
  },
  {
   "cell_type": "code",
   "execution_count": 8,
   "metadata": {
    "tags": []
   },
   "outputs": [
    {
     "output_type": "stream",
     "name": "stdout",
     "text": "74\n"
    }
   ],
   "source": [
    "print(max(numbers))"
   ]
  },
  {
   "cell_type": "markdown",
   "metadata": {},
   "source": [
    "**6.** Print only vowels in a string. For example if the string is 'great' you should print:  \n",
    "g  \n",
    "r  \n",
    "t  \n"
   ]
  },
  {
   "cell_type": "code",
   "execution_count": 9,
   "metadata": {},
   "outputs": [],
   "source": [
    "vowels='aeiou'"
   ]
  },
  {
   "cell_type": "code",
   "execution_count": 10,
   "metadata": {
    "tags": []
   },
   "outputs": [
    {
     "output_type": "stream",
     "name": "stdout",
     "text": "g\nr\nt\n"
    }
   ],
   "source": [
    "inputStr = \"great\"\n",
    "for char in inputStr:\n",
    "    if char in vowels:\n",
    "        continue\n",
    "    else:\n",
    "        print(char)"
   ]
  },
  {
   "cell_type": "markdown",
   "metadata": {},
   "source": [
    "**7.** Find the intersection of two lists using loops: return the common elements of two lists as a list. For example for the following two lists:  \n",
    "list_a=[3,5,7,9] and list_b=[9, 8 , 12, 7]  \n",
    "the result should be:  \n",
    "[7,9]  (or [9,7])"
   ]
  },
  {
   "cell_type": "code",
   "execution_count": 11,
   "metadata": {},
   "outputs": [
    {
     "output_type": "execute_result",
     "data": {
      "text/plain": "{7, 9}"
     },
     "metadata": {},
     "execution_count": 11
    }
   ],
   "source": [
    "list_a=[3,5,7,9]\n",
    "list_b=[9, 8 , 12, 7]\n",
    "set(list_a).intersection(list_b)"
   ]
  },
  {
   "cell_type": "markdown",
   "metadata": {},
   "source": [
    "**8.** The following  function simulates a coin flip."
   ]
  },
  {
   "cell_type": "code",
   "execution_count": 12,
   "metadata": {},
   "outputs": [],
   "source": [
    "flip=random.randint(0,1) ##0 means head, 1 means tail"
   ]
  },
  {
   "cell_type": "markdown",
   "metadata": {},
   "source": [
    "Run the simulation until we get two heads, and print out the number of coin flips it took to get two heads"
   ]
  },
  {
   "cell_type": "markdown",
   "metadata": {},
   "source": [
    "**9.**  Run the simulation until we get two **consecutive** heads, and print out the number of flips it took to get two heads"
   ]
  },
  {
   "cell_type": "code",
   "execution_count": 13,
   "metadata": {
    "tags": []
   },
   "outputs": [
    {
     "output_type": "stream",
     "name": "stdout",
     "text": "# 1\n"
    }
   ],
   "source": [
    "flip_a = random.randint(0,1)\n",
    "flip_b = random.randint(0,1)\n",
    "flip_count = 0\n",
    "while(flip_a + flip_b != 0):\n",
    "    flip_count += 1\n",
    "    flip_a = random.randint(0,1)\n",
    "    flip_b = random.randint(0,1)\n",
    "print(\"#\", flip_count)"
   ]
  },
  {
   "cell_type": "code",
   "execution_count": null,
   "metadata": {},
   "outputs": [],
   "source": []
  },
  {
   "cell_type": "markdown",
   "metadata": {},
   "source": [
    "**10.** The following function simulates three coin flips"
   ]
  },
  {
   "cell_type": "code",
   "execution_count": 14,
   "metadata": {},
   "outputs": [
    {
     "output_type": "execute_result",
     "data": {
      "text/plain": "['T', 'H', 'T']"
     },
     "metadata": {},
     "execution_count": 14
    }
   ],
   "source": [
    "three_flips=random.choices(['H','T'],k=3)  ## 'H' for Head and 'T' for Tail\n",
    "three_flips"
   ]
  },
  {
   "cell_type": "markdown",
   "metadata": {},
   "source": [
    "What is the probability of getting 2 heads (exactly) when a coin flipped 3 times, estimate it using the simulation above"
   ]
  },
  {
   "cell_type": "code",
   "execution_count": null,
   "metadata": {},
   "outputs": [],
   "source": []
  },
  {
   "cell_type": "markdown",
   "metadata": {},
   "source": [
    "### More interesting use of loops"
   ]
  },
  {
   "cell_type": "markdown",
   "metadata": {},
   "source": [
    "**L1.** One of the first known examples of encryption was used by Julius Caesar. Caesar needed to provide written instructions to his generals, but he didn’t want his enemies to learn his plans if the message slipped into their hands. As result, he developed what later became known as the Caesar Cipher.  \n",
    "\n",
    "   The idea behind this cipher is simple (and as a result, it provides no protection against modern code breaking techniques). Each letter in the original message is shifted by 3 places. As a result, A becomes D, B becomes E, C becomes F, D becomes G, etc. The last three letters in the alphabet are wrapped around to the beginning: X becomes A, Y becomes B and Z becomes C. Non-letter characters are not modified by the cipher.    \n",
    "     \n",
    "   Write a program that implements a Caesar cipher. Allow the user to supply the message and the shift amount, and then display the shifted message. Ensure that your program encodes both uppercase and lowercase letters. \n",
    "   \n",
    "**Hint**: you can use a string that contains all letters as your reference as shown below"
   ]
  },
  {
   "cell_type": "code",
   "execution_count": 15,
   "metadata": {},
   "outputs": [
    {
     "output_type": "execute_result",
     "data": {
      "text/plain": "'a'"
     },
     "metadata": {},
     "execution_count": 15
    }
   ],
   "source": [
    "alphabet='abcdefghijklmnopqrstuvwxyz'\n",
    "alphabet[0]"
   ]
  },
  {
   "cell_type": "code",
   "execution_count": 16,
   "metadata": {
    "scrolled": true,
    "tags": []
   },
   "outputs": [
    {
     "output_type": "stream",
     "name": "stdout",
     "text": "Pb qdph lv Ndxwlobd AAAa b CCCCcc\n"
    }
   ],
   "source": [
    "caeser_str = \"My name is Kautilya XXXx y ZZZZzz\"\n",
    "caeser_list = \"\"\n",
    "\n",
    "for char in caeser_str:\n",
    "    \n",
    "    if char == \" \":\n",
    "        caeser_list += \" \"\n",
    "        continue\n",
    "    \n",
    "    isUpperCase = char.isupper()\n",
    "    index_int = alphabet.find(char.lower())+3\n",
    "    \n",
    "    if index_int > 25:\n",
    "        index_int = index_int - 26\n",
    "    \n",
    "    letter = alphabet[index_int]\n",
    "    caeser_list += letter.upper() if isUpperCase else letter\n",
    "    \n",
    "\n",
    "print(caeser_list)"
   ]
  },
  {
   "cell_type": "markdown",
   "metadata": {},
   "source": [
    "**L2.** Write a program that implements Newton’s method to compute and display the square root of a number entered by the user. The algorithm for Newton’s method follows:\n",
    "\n",
    "- Setup x as variable  \n",
    "- Initialize *guess* to x/2  \n",
    "- **While** *guess* is not good enough **do**   \n",
    "  - Update *guess* to be the average of *guess* and $\\frac{x}{\\textit{guess}}$  \n",
    "\n",
    "When this algorithm completes, *guess* contains an approximation of the square root. The quality of the approximation depends on how you define “good enough”. In the author’s solution, *guess* was considered good enough when the absolute value of the difference between *guess* \\* *guess* ($=guess^{2}$) and *x* was less than or equal to $10^{-12}$."
   ]
  },
  {
   "cell_type": "code",
   "execution_count": null,
   "metadata": {},
   "outputs": [],
   "source": []
  },
  {
   "cell_type": "markdown",
   "metadata": {},
   "source": [
    "**L3.** The prime factorization of an integer, *n*, can be determined using the following steps: \n",
    "\n",
    "- Initialize a variable n, and  *factor*. Set factor two 2 as the lowest possible prime factor\n",
    "- **While** *factor* is less than or equal to *n* **do**\n",
    "\t- **If** *n* is evenly divisable by *factor* then\n",
    "\t\t- Conclude that *factor* is a factor of *n*\n",
    "\t\t- Divide *n* by *factor* using integer division\n",
    "\t- **Else**\n",
    "\t\t- Increas *factor* by one\n",
    "\n",
    "\n",
    "\n",
    "Write a program that reads an integer from the user. If the value entered by the user is less than 2 then your program should display an appropriate error message. Otherwise your program should display the prime numbers that can be multiplied together to compute *n* in a list"
   ]
  },
  {
   "cell_type": "code",
   "execution_count": null,
   "metadata": {},
   "outputs": [],
   "source": []
  },
  {
   "cell_type": "markdown",
   "metadata": {},
   "source": [
    "**L4.** In the game of Scrabble ™, each letter has points associated with it. The total score of a word is the sum of the scores of its letters. More common letters are worth fewer points while less common letters are worth more points. The points associated with each letter are shown below:  \n",
    "\n",
    "|Points| Letters |\n",
    "|---|------------|\n",
    "| 1 | A,E,I,L,N,O,R,S,T,U |\n",
    "| 2 | D,G           |\n",
    "| 3 | B,C,M,P       |\n",
    "| 4 | F,H,W,Y       |\n",
    "| 5 | K       |\n",
    "| 6 | J,K       |\n",
    "| 7 | Q,Z       |\n",
    "\n",
    "\n"
   ]
  },
  {
   "cell_type": "code",
   "execution_count": 17,
   "metadata": {},
   "outputs": [],
   "source": [
    "scores={'AEILNORSTU':1, 'DG':2, 'BCMP':3,'FHVWY':4, 'K':5, 'JX':6,'QZ':7}"
   ]
  },
  {
   "cell_type": "code",
   "execution_count": null,
   "metadata": {},
   "outputs": [],
   "source": []
  },
  {
   "cell_type": "markdown",
   "metadata": {},
   "source": [
    "## Some interesting use of permutation and random functions"
   ]
  },
  {
   "cell_type": "code",
   "execution_count": 32,
   "metadata": {},
   "outputs": [],
   "source": []
  },
  {
   "cell_type": "markdown",
   "metadata": {},
   "source": [
    "**R1.** Simulate a game show that gives a grand prize - a brand new car when the guest correctly guesses which of the three doors lead to it (1, 2, or 3). What is the probability of winning the car ? "
   ]
  },
  {
   "cell_type": "code",
   "execution_count": null,
   "metadata": {},
   "outputs": [],
   "source": []
  },
  {
   "cell_type": "markdown",
   "metadata": {},
   "source": [
    "**R2.** Monty Hall problem:  \"Suppose you're on a game show, and you're given the choice of three doors: Behind one door is a car; behind the others, goats. You pick a door, say No. 1, and the host, who knows what's behind the doors, opens another door, say No. 3, which has a goat. He then says to you, \"Do you want to pick door No. 2?\" Is it to your advantage to switch your choice?\" (Wikipedia:https://en.wikipedia.org/wiki/Monty_Hall_problem) \n",
    "\n",
    "With a simulation estimate the probability of winning when you switch your choice based on the door opened by the host"
   ]
  },
  {
   "cell_type": "code",
   "execution_count": null,
   "metadata": {},
   "outputs": [],
   "source": []
  },
  {
   "cell_type": "code",
   "execution_count": null,
   "metadata": {},
   "outputs": [],
   "source": []
  },
  {
   "cell_type": "code",
   "execution_count": null,
   "metadata": {},
   "outputs": [],
   "source": []
  }
 ],
 "metadata": {
  "kernelspec": {
   "display_name": "Python 3",
   "language": "python",
   "name": "python3"
  },
  "language_info": {
   "codemirror_mode": {
    "name": "ipython",
    "version": 3
   },
   "file_extension": ".py",
   "mimetype": "text/x-python",
   "name": "python",
   "nbconvert_exporter": "python",
   "pygments_lexer": "ipython3",
   "version": "3.8.3-final"
  }
 },
 "nbformat": 4,
 "nbformat_minor": 2
}